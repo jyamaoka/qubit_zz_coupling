{
 "cells": [
  {
   "cell_type": "code",
   "execution_count": null,
   "id": "8e4ee310",
   "metadata": {},
   "outputs": [],
   "source": [
    "import numpy as np\n",
    "import matplotlib.pyplot as plt\n",
    "from qubit_zz_coupling.core import setup_operators, solve_t1, solve_t2, make_population, plot_t1, plot_t2\n",
    "from qutip import basis, tensor"
   ]
  },
  {
   "cell_type": "code",
   "execution_count": null,
   "id": "ad553e5d",
   "metadata": {},
   "outputs": [],
   "source": [
    "# Define system parameters\n",
    "SYSTEM_PARAMS_NOCOUP = {\n",
    "    \"fq1\": 3.2,  # GHz, Qubit 1 frequency\n",
    "    \"fq2\": 3.35,  # GHz, Qubit 2 frequency\n",
    "    \"fTLS\": 3.2,  # GHz, TLS frequency (resonant with Qubit 1)\n",
    "    \"JTLS\": 0.05,  # Coupling strength between Qubit 1 and TLS\n",
    "    \"relaxation\": {\"q1\": 1/20, \"q2\": 1/25, \"TLS\": 1/5},  # Relaxation rates\n",
    "    \"dephasing\": {\"q1\": 1/15, \"q2\": 1/18, \"TLS\": 1/3},  # Dephasing rates\n",
    "    \"Jzz\": 0.0, # Jzz coupling\n",
    "    \"Jxx\": 0.0, # Jxx coupling\n",
    "    \"Jxt\": 0.00, # Jxt coupling\n",
    "    \"time_points\": np.linspace(0, 30, 100)  # Time points in μs\n",
    "}\n",
    "\n",
    "H, c_ops, sz_q1, sz_q2, sx_q1, sx_q2 = setup_operators(system_params=SYSTEM_PARAMS_NOCOUP)\n",
    "\n",
    "# get times\n",
    "tlist = SYSTEM_PARAMS_NOCOUP[\"time_points\"]"
   ]
  },
  {
   "cell_type": "code",
   "execution_count": null,
   "id": "46743329",
   "metadata": {},
   "outputs": [],
   "source": [
    "# T1 measurement for Qubit 1 \n",
    "psi0 = tensor(basis(2, 0), basis(2, 1), basis(2, 1))  # |0⟩|1⟩|1⟩\n",
    "solve_t1(H, psi0, tlist, c_ops, [sz_q1], ret_pop=False)\n",
    "plot_t1(H, psi0, tlist, c_ops, [sz_q1], \"Qubit 1\", SYSTEM_PARAMS_NOCOUP)\n",
    "plt.show()"
   ]
  },
  {
   "cell_type": "code",
   "execution_count": null,
   "id": "be527730",
   "metadata": {},
   "outputs": [],
   "source": [
    "# T2 measurement for Qubit 1 \n",
    "psi0 = tensor((basis(2, 0) + basis(2, 1)).unit(), basis(2, 1), basis(2, 1))  # |+⟩|1⟩|1⟩\n",
    "\n",
    "\n",
    "first_guess = [0.5, 1.0 / SYSTEM_PARAMS_NOCOUP[\"dephasing\"][\"q1\"], # best guess\n",
    "                  SYSTEM_PARAMS_NOCOUP[\"fq1\"], 0.0, 0.5]\n",
    "\n",
    "solve_t2(H, psi0, tlist, c_ops, [sx_q1], first_guess, ret_pop=False)\n",
    "plot_t2(H, psi0, tlist, c_ops, [sx_q1], first_guess, \"Qubit 1\", SYSTEM_PARAMS_NOCOUP)\n",
    "plt.show()"
   ]
  }
 ],
 "metadata": {
  "kernelspec": {
   "display_name": "qiskit",
   "language": "python",
   "name": "python3"
  },
  "language_info": {
   "codemirror_mode": {
    "name": "ipython",
    "version": 3
   },
   "file_extension": ".py",
   "mimetype": "text/x-python",
   "name": "python",
   "nbconvert_exporter": "python",
   "pygments_lexer": "ipython3",
   "version": "3.10.16"
  }
 },
 "nbformat": 4,
 "nbformat_minor": 5
}
