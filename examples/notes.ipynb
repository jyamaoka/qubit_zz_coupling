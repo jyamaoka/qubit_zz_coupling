{
 "cells": [
  {
   "cell_type": "code",
   "execution_count": null,
   "id": "0c2b1e16",
   "metadata": {},
   "outputs": [],
   "source": [
    "from qutip import basis, tensor, sigmaz, sigmax, sigmay, sigmam, sigmap, mesolve, identity, Qobj, destroy, qeye, Bloch, about"
   ]
  },
  {
   "cell_type": "code",
   "execution_count": null,
   "id": "11e1967f",
   "metadata": {},
   "outputs": [],
   "source": [
    "# spin0 is excited state \n",
    "spin0 = basis(2,0)\n",
    "print(spin0)\n",
    "print(sigmam()*spin0)"
   ]
  },
  {
   "cell_type": "code",
   "execution_count": null,
   "id": "033b2a19",
   "metadata": {},
   "outputs": [],
   "source": [
    "print(sigmam())"
   ]
  },
  {
   "cell_type": "code",
   "execution_count": null,
   "id": "2d9a075c",
   "metadata": {},
   "outputs": [],
   "source": [
    "print(sigmax())"
   ]
  },
  {
   "cell_type": "code",
   "execution_count": null,
   "id": "7f0e083a",
   "metadata": {},
   "outputs": [],
   "source": [
    "def numOp(m):\n",
    "    \"\"\"\n",
    "    Computes the number operator \n",
    "    \"\"\"\n",
    "    return m.dag()*m\n",
    "\n",
    "def rwaCoupling(m1, m2):\n",
    "    \"\"\"\n",
    "    coupling\n",
    "    \"\"\"\n",
    "    return m1.dag()*m2 + m1*m2.dag()"
   ]
  },
  {
   "cell_type": "code",
   "execution_count": null,
   "id": "80ccd029",
   "metadata": {},
   "outputs": [],
   "source": [
    "#print()\n",
    "N=2\n",
    "# cavity 1, 2, 3 destruction operators\n",
    "a1 = tensor(destroy(N), qeye(N), qeye(N), qeye(2), qeye(2))\n",
    "a2 = tensor(qeye(N), destroy(N), qeye(N), qeye(2), qeye(2))\n",
    "a3 = tensor(qeye(N), qeye(N), destroy(N), qeye(2), qeye(2))"
   ]
  },
  {
   "cell_type": "code",
   "execution_count": null,
   "id": "e08d5ed7",
   "metadata": {},
   "outputs": [],
   "source": [
    "print(rwaCoupling(a1,a2))"
   ]
  },
  {
   "cell_type": "code",
   "execution_count": null,
   "id": "2f033a92",
   "metadata": {},
   "outputs": [],
   "source": [
    "# Define parameters\n",
    "Jzz = 0.1  # ZZ coupling strength\n",
    "omega_q1 = 1.0  # Qubit 1 frequency\n",
    "omega_q2 = 1.2  # Qubit 2 frequency\n",
    "\n",
    "# Define single-qubit Hamiltonians\n",
    "H_q1 = omega_q1 * tensor(sigmaz(), qeye(2))  # Qubit 1\n",
    "H_q2 = omega_q2 * tensor(qeye(2), sigmaz())  # Qubit 2\n",
    "\n",
    "# Define ZZ interaction term\n",
    "H_zz = Jzz * tensor(sigmaz(), sigmaz())\n",
    "\n",
    "# Total Hamiltonian\n",
    "H_total = H_q1 + H_q2 + H_zz\n",
    "\n",
    "print(H_q2)"
   ]
  },
  {
   "cell_type": "code",
   "execution_count": null,
   "id": "98848f0a",
   "metadata": {},
   "outputs": [],
   "source": [
    "# Define parameters\n",
    "Jzz = 0.1  # ZZ coupling strength\n",
    "omega_q1 = 1.0  # Qubit 1 frequency\n",
    "omega_q2 = 1.2  # Qubit 2 frequency\n",
    "\n",
    "# Define single-qubit Hamiltonians\n",
    "H_q1 = omega_q1 * tensor(sigmaz(), qeye(2))  # Qubit 1\n",
    "H_q2 = omega_q2 * tensor(qeye(2), sigmaz())  # Qubit 2\n",
    "\n",
    "# Define ZZ interaction term\n",
    "H_zz = Jzz * sigmaz() * sigmaz()\n",
    "\n",
    "# Total Hamiltonian\n",
    "H_total = H_q1 + H_q2 + H_zz\n",
    "\n",
    "print(H_total)"
   ]
  },
  {
   "cell_type": "code",
   "execution_count": null,
   "id": "f5a3ea06",
   "metadata": {},
   "outputs": [],
   "source": [
    "import numpy as np\n",
    "import matplotlib.pyplot as plt\n",
    "from qutip import basis, sigmax, sigmaz, qeye, mesolve, tensor\n",
    "\n",
    "# Define parameters\n",
    "omega_q = 1.0  # Qubit frequency\n",
    "delta = 0.1  # Detuning\n",
    "T2_star = 5.0  # Coherence time\n",
    "times = np.linspace(0, 10, 100)  # Time points\n",
    "\n",
    "# Define operators\n",
    "sx = sigmax()\n",
    "sz = sigmaz()\n",
    "I = qeye(2)\n",
    "\n",
    "# Define Hamiltonian (free evolution with detuning)\n",
    "H = delta * sz\n",
    "\n",
    "# Initial state (after first π/2 pulse)\n",
    "psi0 = (basis(2, 0) + basis(2, 1)).unit()\n",
    "\n",
    "# Solve the time evolution\n",
    "result = mesolve(H, psi0, times, [sigmam().dag()], [sx])\n",
    "\n",
    "# Plot the Ramsey fringes\n",
    "plt.plot(times, result.expect[0], label=\"Ramsey Signal\")\n",
    "plt.xlabel(\"Time\")\n",
    "plt.ylabel(\"Expectation Value of σz\")\n",
    "plt.title(\"Ramsey Measurement Simulation\")\n",
    "plt.legend()\n",
    "plt.grid(True)\n",
    "plt.show()"
   ]
  },
  {
   "cell_type": "code",
   "execution_count": null,
   "id": "3aa98bea",
   "metadata": {},
   "outputs": [],
   "source": [
    "# coefficients\n",
    "delta = 2 * np.pi\n",
    "g = 0.25\n",
    "\n",
    "# hamiltonian\n",
    "H = delta / 2.0 * sigmax()\n",
    "\n",
    "# list of collapse operators\n",
    "c_ops = [np.sqrt(g) * sigmaz()]\n",
    "\n",
    "# initial state\n",
    "#psi0 = (basis(2, 0)+basis(2,1)).unit()\n",
    "psi0 = basis(2, 0)\n",
    "\n",
    "# times\n",
    "tlist = np.linspace(0, 10, 100)\n",
    "\n",
    "res = mesolve(H, psi0, tlist, c_ops, [sigmaz()])\n",
    "\n",
    "sz_analytic = np.cos(2 * np.pi * tlist) * np.exp(-tlist * g)\n",
    "\n",
    "plt.scatter(tlist, res.expect[0], c=\"r\", marker=\"x\", label=\"mesolve\")\n",
    "plt.plot(tlist, sz_analytic, label=\"Analytic\")\n",
    "plt.xlabel(\"Time\"), plt.ylabel(\"<sigma_z>\")\n",
    "plt.legend();"
   ]
  },
  {
   "cell_type": "code",
   "execution_count": null,
   "id": "9b811433",
   "metadata": {},
   "outputs": [],
   "source": [
    "# Angle\n",
    "theta = 0.2 * np.pi\n",
    "\n",
    "# Hamiltonian\n",
    "H = delta * (np.cos(theta) * sigmaz() + np.sin(theta) * sigmax())\n",
    "\n",
    "# Obtain Time Evolution\n",
    "tlist = np.linspace(0, 5, 1000)\n",
    "result = mesolve(H, psi0, tlist, [], [sigmax(), sigmay(), sigmaz()])\n",
    "\n",
    "# Extract expectation values for pauli matrices\n",
    "exp_sx_circ, exp_sy_circ, exp_sz_circ = result.expect\n",
    "exp_sx_circ, exp_sy_circ, exp_sz_circ = (\n",
    "    np.array(exp_sx_circ),\n",
    "    np.array(exp_sy_circ),\n",
    "    np.array(exp_sz_circ),\n",
    ")\n",
    "\n",
    "# Create Bloch sphere plot\n",
    "sphere = Bloch()\n",
    "sphere.add_points([exp_sx_circ, exp_sy_circ, exp_sz_circ], meth=\"l\")\n",
    "sphere.add_states(psi0)\n",
    "sphere.show()"
   ]
  },
  {
   "cell_type": "code",
   "execution_count": null,
   "id": "223c69c3",
   "metadata": {},
   "outputs": [],
   "source": [
    "gamma_phase = 0.5\n",
    "c_ops = [np.sqrt(gamma_phase) * sigmaz()]\n",
    "\n",
    "# solve dynamics\n",
    "result = mesolve(H, psi0, tlist, c_ops, [sigmax(), sigmay(), sigmaz()])\n",
    "exp_sx_dephase, exp_sy_dephase, exp_sz_dephase = result.expect\n",
    "exp_sx_dephase, exp_sy_dephase, exp_sz_dephase = (\n",
    "    np.array(exp_sx_dephase),\n",
    "    np.array(exp_sy_dephase),\n",
    "    np.array(exp_sz_dephase),\n",
    ")\n",
    "\n",
    "# Create Bloch sphere plot\n",
    "sphere = Bloch()\n",
    "sphere.add_points([exp_sx_dephase, exp_sy_dephase, exp_sz_dephase], meth=\"l\")\n",
    "sphere.add_states(psi0)\n",
    "sphere.show()"
   ]
  },
  {
   "cell_type": "code",
   "execution_count": null,
   "id": "a60fbc6e",
   "metadata": {},
   "outputs": [],
   "source": [
    "gamma_relax = 0.5\n",
    "c_ops = [np.sqrt(gamma_relax) * sigmam()]\n",
    "\n",
    "# solve dynamics\n",
    "result = mesolve(H, psi0, tlist, c_ops, [sigmax(), sigmay(), sigmaz()])\n",
    "exp_sx_relax, exp_sy_relax, exp_sz_relax = result.expect\n",
    "\n",
    "# Create Bloch sphere plot\n",
    "sphere = Bloch()\n",
    "sphere.add_points([exp_sx_relax, exp_sy_relax, exp_sz_relax], meth=\"l\")\n",
    "sphere.add_states(psi0)\n",
    "sphere.show()"
   ]
  },
  {
   "cell_type": "code",
   "execution_count": null,
   "id": "3a8ae673",
   "metadata": {},
   "outputs": [],
   "source": [
    "plt.scatter(tlist, exp_sz_relax, c=\"r\", marker=\"x\", label=\"mesolve\")\n",
    "#plt.plot(tlist, sz_analytic, label=\"Analytic\")\n",
    "plt.xlabel(\"Time\"), plt.ylabel(\"<sigma_z>\")\n",
    "plt.legend();"
   ]
  },
  {
   "cell_type": "code",
   "execution_count": null,
   "id": "66594ab3",
   "metadata": {},
   "outputs": [],
   "source": [
    "# Define parameters\n",
    "omega_q = 1.0  # Qubit frequency\n",
    "delta = 0.1  # Detuning\n",
    "T2_star = 5.0  # Coherence time\n",
    "times = np.linspace(0, 500, 100)  # Time points\n",
    "\n",
    "# Define operators\n",
    "sx = sigmax()\n",
    "sz = sigmaz()\n",
    "I = qeye(2)\n",
    "\n",
    "# Define Hamiltonian (free evolution with detuning)\n",
    "H = delta * sz\n",
    "\n",
    "# Initial state (after first π/2 pulse)\n",
    "psi0 = (basis(2, 0) + basis(2, 1)).unit()\n",
    "psi0 = basis(2,0)\n",
    "\n",
    "# Solve the time evolution\n",
    "result = mesolve(H, psi0, times, [sigmam()], [sz])\n",
    "\n",
    "# Plot the Ramsey fringes\n",
    "plt.plot(times, result.expect[0], label=\"Ramsey Signal\")\n",
    "plt.xlabel(\"Time\")\n",
    "plt.ylabel(\"Expectation Value of σz\")\n",
    "plt.title(\"Ramsey Measurement Simulation\")\n",
    "plt.legend()\n",
    "plt.grid(True)\n",
    "plt.show()"
   ]
  },
  {
   "cell_type": "code",
   "execution_count": null,
   "id": "a6e5dc18",
   "metadata": {},
   "outputs": [],
   "source": [
    "import numpy as np\n",
    "from qutip import about, basis, brmesolve, destroy, plot_expectation_values"
   ]
  },
  {
   "cell_type": "code",
   "execution_count": null,
   "id": "88fce6c5",
   "metadata": {},
   "outputs": [],
   "source": [
    "# num modes\n",
    "N = 2\n",
    "# Hamiltonian\n",
    "a = destroy(N)\n",
    "H = a.dag() * a\n",
    "\n",
    "# initial state\n",
    "psi0 = basis(N, N - 1)\n",
    "\n",
    "# times for simulation\n",
    "times = np.linspace(0, 20, 100)\n",
    "\n",
    "# solve using brmesolve\n",
    "result_const = brmesolve(H, psi0, times, e_ops=[a.dag() * a])"
   ]
  },
  {
   "cell_type": "code",
   "execution_count": null,
   "id": "0388fabb",
   "metadata": {},
   "outputs": [],
   "source": [
    "plot_expectation_values(result_const, ylabels=[\"<n>\"]);"
   ]
  },
  {
   "cell_type": "code",
   "execution_count": null,
   "id": "6bcb810c",
   "metadata": {},
   "outputs": [],
   "source": [
    "time_dependence = \"sin(t)\""
   ]
  },
  {
   "cell_type": "code",
   "execution_count": null,
   "id": "f7f53e83",
   "metadata": {},
   "outputs": [],
   "source": [
    "H_t = [H, [a + a.dag(), time_dependence]]\n",
    "result_brme = brmesolve(H_t, psi0, times, e_ops=[a.dag() * a])\n",
    "plot_expectation_values(result_brme, ylabels=[\"<n>\"]);"
   ]
  },
  {
   "cell_type": "code",
   "execution_count": null,
   "id": "593a7bd5",
   "metadata": {},
   "outputs": [],
   "source": []
  }
 ],
 "metadata": {
  "kernelspec": {
   "display_name": "qiskit",
   "language": "python",
   "name": "python3"
  },
  "language_info": {
   "codemirror_mode": {
    "name": "ipython",
    "version": 3
   },
   "file_extension": ".py",
   "mimetype": "text/x-python",
   "name": "python",
   "nbconvert_exporter": "python",
   "pygments_lexer": "ipython3",
   "version": "3.10.16"
  }
 },
 "nbformat": 4,
 "nbformat_minor": 5
}
