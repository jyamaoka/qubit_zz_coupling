{
 "cells": [
  {
   "cell_type": "code",
   "execution_count": 3,
   "metadata": {},
   "outputs": [],
   "source": [
    "import numpy as np\n",
    "import matplotlib.pyplot as plt\n",
    "import plotly.graph_objects as go\n",
    "\n",
    "def sample_bimodal_gaussian_split(\n",
    "    mu1: float, sigma1: float,\n",
    "    mu2: float, sigma2: float,\n",
    "    size: int = 1,\n",
    "    weight: float = 0.5\n",
    ") -> np.ndarray:\n",
    "    \"\"\"\n",
    "    Generate random samples from a bimodal Gaussian (mixture of two Gaussians).\n",
    "\n",
    "    Args:\n",
    "        mu1 (float): Mean of the first Gaussian.\n",
    "        sigma1 (float): Std dev of the first Gaussian.\n",
    "        mu2 (float): Mean of the second Gaussian.\n",
    "        sigma2 (float): Std dev of the second Gaussian.\n",
    "        weight (float): Probability of sampling from the first Gaussian (0 to 1).\n",
    "        size (int): Number of samples to generate.\n",
    "\n",
    "    Returns:\n",
    "        np.ndarray: Array of random samples from the bimodal distribution.\n",
    "    \"\"\"\n",
    "    choices = np.random.rand(size) < weight\n",
    "    samples_lo = np.empty(np.sum(choices))\n",
    "    samples_hi = np.empty(np.sum(~choices))\n",
    "\n",
    "    samples_lo = np.random.normal(mu1, sigma1, np.sum(choices))\n",
    "    samples_hi = np.random.normal(mu2, sigma2, np.sum(~choices))\n",
    "\n",
    "    samples_lo[samples_lo < 0] = 0\n",
    "    samples_hi[samples_hi < 0] = 0\n",
    "\n",
    "    return samples_lo, samples_hi \n",
    "\n",
    "def sample_bimodal_gaussian(\n",
    "    mu1: float, sigma1: float,\n",
    "    mu2: float, sigma2: float,\n",
    "    size: int = 1,\n",
    "    weight: float = 0.5\n",
    ") -> np.ndarray:\n",
    "    \"\"\"\n",
    "    Generate random samples from a bimodal Gaussian (mixture of two Gaussians).\n",
    "\n",
    "    Args:\n",
    "        mu1 (float): Mean of the first Gaussian.\n",
    "        sigma1 (float): Std dev of the first Gaussian.\n",
    "        mu2 (float): Mean of the second Gaussian.\n",
    "        sigma2 (float): Std dev of the second Gaussian.\n",
    "        weight (float): Probability of sampling from the first Gaussian (0 to 1).\n",
    "        size (int): Number of samples to generate.\n",
    "\n",
    "    Returns:\n",
    "        np.ndarray: Array of random samples from the bimodal distribution.\n",
    "    \"\"\"\n",
    "    choices = np.random.rand(size) < weight\n",
    "    samples = np.empty(size)\n",
    "    samples[choices] = np.random.normal(mu1, sigma1, np.sum(choices))\n",
    "    samples[~choices] = np.random.normal(mu2, sigma2, np.sum(~choices))\n",
    "    samples[samples < 0] = 0\n",
    "    return samples \n",
    "\n",
    "def sample_bimodal_gaussian2D(\n",
    "    mu1: np.array, sigma1: np.array,\n",
    "    mu2: np.array, sigma2: np.array,\n",
    "    size: int = 1,\n",
    "    weight: float = 0.5\n",
    ") -> np.ndarray:\n",
    "    \"\"\"\n",
    "    Generate random samples from a bimodal Gaussian (mixture of two Gaussians).\n",
    "\n",
    "    Args:\n",
    "        mu1 (float): Mean of the first Gaussian.\n",
    "        sigma1 (float): Std dev of the first Gaussian.\n",
    "        mu2 (float): Mean of the second Gaussian.\n",
    "        sigma2 (float): Std dev of the second Gaussian.\n",
    "        weight (float): Probability of sampling from the first Gaussian (0 to 1).\n",
    "        size (int): Number of samples to generate.\n",
    "\n",
    "    Returns:\n",
    "        np.ndarray: Array of random samples from the bimodal distribution.\n",
    "    \"\"\"\n",
    "    choices = np.random.rand(size) < weight\n",
    "    samples0 = np.empty(size)\n",
    "    samples0[choices] = np.random.normal(mu1[0], sigma1[0], np.sum(choices))\n",
    "    samples0[~choices] = np.random.normal(mu2[0], sigma2[0], np.sum(~choices))\n",
    "    samples0[samples0 < 0] = 0\n",
    "\n",
    "    samples1 = np.empty(size)\n",
    "    samples1[choices] = np.random.normal(mu1[1], sigma1[1], np.sum(choices))\n",
    "    samples1[~choices] = np.random.normal(mu2[1], sigma2[1], np.sum(~choices))\n",
    "    samples1[samples1 < 0] = 0\n",
    "    return samples0, samples1\n",
    "\n",
    "def correlated_2d_normal(mean, cov, size=10000):\n",
    "    \"\"\"\n",
    "    Generate and plot a correlated 2D normal distribution.\n",
    "\n",
    "    Args:\n",
    "        mean (list): Means for each dimension [mean_x, mean_y].\n",
    "        cov (list of lists): Covariance matrix [[var_x, cov_xy], [cov_yx, var_y]].\n",
    "        num_samples (int): Number of samples to generate.\n",
    "        bins (int): Number of bins for the 2D histogram.\n",
    "        cmap (str): Colormap for the heatmap.\n",
    "\n",
    "    Returns:\n",
    "        t1_samples (np.ndarray): Samples for the first variable.\n",
    "        t2_samples (np.ndarray): Samples for the second variable.\n",
    "    \"\"\"\n",
    "    samples = np.random.multivariate_normal(mean, cov, size)\n",
    "    t1_samples = samples[:, 0]\n",
    "    t2_samples = samples[:, 1]\n",
    "\n",
    "    return t1_samples, t2_samples\n",
    "\n",
    "def double_correlated_2d_normal(mean1, cov1, mean2, cov2, size=1, weight=0.5):\n",
    "    \"\"\"\n",
    "    Generate and plot two correlated 2D normal distributions.\n",
    "\n",
    "    Args:\n",
    "        mean1, mean2: Means for each distribution [mean_x, mean_y].\n",
    "        cov1, cov2: Covariance matrices for each distribution.\n",
    "        num_samples: Number of samples for each distribution.\n",
    "        bins: Number of bins for the 2D histogram.\n",
    "        cmap: Colormap for the heatmap.\n",
    "\n",
    "    Returns:\n",
    "        (t1a, t2a), (t1b, t2b): Samples for both distributions.\n",
    "    \"\"\"\n",
    "    choices = np.random.rand(size) < weight\n",
    "    t1a, t2a = correlated_2d_normal(mean1, cov1, np.sum(choices))\n",
    "    t1b, t2b = correlated_2d_normal(mean2, cov2, np.sum(choices))\n",
    "    return np.concatenate([t1a,t1b]), np.concatenate([t2a,t2b])\n",
    "\n",
    "def select_periodic(T_Hi, T_Lo, hr, size, time):\n",
    "    \"\"\"\n",
    "    Select random items from T_Hi or T_Lo based on a periodic function with period hr.\n",
    "\n",
    "    Args:\n",
    "        T_Hi (np.ndarray): Array of high values.\n",
    "        T_Lo (np.ndarray): Array of low values.\n",
    "        hr (float): Period of the function (in same units as index).\n",
    "        size (int): Number of items to select.\n",
    "        phase (float): Optional phase offset (default 0).\n",
    "\n",
    "    Returns:\n",
    "        np.ndarray: Selected values, length=size.\n",
    "    \"\"\"\n",
    "    tline = np.linspace(0,time,size)\n",
    "    # Use a sine function to alternate selection\n",
    "    selector = (np.sin(2 * np.pi * (tline / hr)) > 0)\n",
    "    # Randomly select from T_Hi or T_Lo\n",
    "    hi_choices = np.random.choice(T_Hi, size)\n",
    "    lo_choices = np.random.choice(T_Lo, size)\n",
    "    result = np.where(selector, hi_choices, lo_choices)\n",
    "    return result, tline\n",
    "\n",
    "def select_periodicCorr(T_HiA, T_LoA, T_HiB, T_LoB, hr, size, time):\n",
    "    \"\"\"\n",
    "    Select random items from T_Hi or T_Lo based on a periodic function with period hr.\n",
    "\n",
    "    Args:\n",
    "        T_Hi (np.ndarray): Array of high values.\n",
    "        T_Lo (np.ndarray): Array of low values.\n",
    "        hr (float): Period of the function (in same units as index).\n",
    "        size (int): Number of items to select.\n",
    "        phase (float): Optional phase offset (default 0).\n",
    "\n",
    "    Returns:\n",
    "        np.ndarray: Selected values, length=size.\n",
    "    \"\"\"\n",
    "    tline = np.linspace(0,time,size)\n",
    "    # Use a sine function to alternate selection\n",
    "    selector = (np.sin(2 * np.pi * (tline / hr)) > 0)\n",
    "    # Randomly select from T_Hi or T_Lo\n",
    "    #T_Lo = list(zip(T_LoA,T_LoB))\n",
    "    #T_Hi = list(zip(T_HiA,T_HiB))\n",
    "    #hi_choices = np.random.choice(T_Hi, size)\n",
    "    #lo_choices = np.random.choice(T_Lo, size)\n",
    "\n",
    "    T_Lo = np.column_stack((T_LoA, T_LoB))\n",
    "    T_Hi = np.column_stack((T_HiA, T_HiB))\n",
    "    hi_idx = np.random.choice(len(T_Hi), size)\n",
    "    lo_idx = np.random.choice(len(T_Lo), size)\n",
    "    hi_choices = T_Hi[hi_idx]\n",
    "    lo_choices = T_Lo[lo_idx]\n",
    "\n",
    "    result = np.where(selector[:, None], hi_choices, lo_choices)\n",
    "    return result, tline\n",
    "\n",
    "def make_t2(t1, tphi):\n",
    "    \"\"\"\n",
    "    Calculate T2 given T1 (array) and Tphi (float).\n",
    "    1/T2 = 1/(2*T1) + 1/Tphi\n",
    "\n",
    "    Args:\n",
    "        t1 (np.ndarray): Array of T1 values.\n",
    "        tphi (float): Tphi value.\n",
    "\n",
    "    Returns:\n",
    "        np.ndarray: Array of T2 values.\n",
    "    \"\"\"\n",
    "    a = 1 / (2 * t1)\n",
    "    b = 1 / tphi\n",
    "    return 1 / (a + b)"
   ]
  },
  {
   "cell_type": "markdown",
   "metadata": {},
   "source": [
    "# Throw Q A T1"
   ]
  },
  {
   "cell_type": "code",
   "execution_count": 15,
   "metadata": {},
   "outputs": [
    {
     "name": "stderr",
     "output_type": "stream",
     "text": [
      "/tmp/ipykernel_829276/714245951.py:111: RuntimeWarning: covariance is not symmetric positive-semidefinite.\n",
      "  samples = np.random.multivariate_normal(mean, cov, size)\n"
     ]
    },
    {
     "data": {
      "image/png": "[encoded data removed]",
      "text/plain": [
       "<Figure size 800x600 with 2 Axes>"
      ]
     },
     "metadata": {},
     "output_type": "display_data"
    }
   ],
   "source": [
    "# V1\n",
    "#mean1 = [50, 50]  # Means for T1 and T2\n",
    "#cov1 = [[250, 200],  # Covariance matrix: diagonal = variances, off-diagonal = correlation\n",
    "#       [200, 250]]\n",
    "#mean2 = [160, 190]  # Means for T1 and T2\n",
    "#cov2 = [[300, 200],  # Covariance matrix: diagonal = variances, off-diagonal = correlation\n",
    "#       [200, 300]]\n",
    "\n",
    "# V2 weaker tls\n",
    "mean1 = [120, 120]  # Means for T1 and T2\n",
    "#cov1 = [[250, 150],  # Covariance matrix: diagonal = variances, off-diagonal = correlation\n",
    "#       [150, 250]]\n",
    "cov1 = [[20, 150],  # Covariance matrix: diagonal = variances, off-diagonal = correlation\n",
    "       [150, 20]]\n",
    "mean2 = [160, 190]  # Means for T1 and T2\n",
    "cov2 = [[300, 200],  # Covariance matrix: diagonal = variances, off-diagonal = correlation\n",
    "       [200, 300]]\n",
    "\n",
    "T1_A_SAMPLE, T2_A_SAMPLE = double_correlated_2d_normal(mean1, cov1, mean2, cov2, size=5000)\n",
    "\n",
    "# Create 2D histogram (heatmap)\n",
    "plt.figure(figsize=(8, 6))\n",
    "plt.hist2d(T1_A_SAMPLE, T2_A_SAMPLE, bins=50, cmap='viridis')\n",
    "#plt.contour(sample0, sample1, bins=50, cmap='viridis')\n",
    "plt.xlabel(\"T1\")\n",
    "plt.ylabel(\"T2\")\n",
    "plt.colorbar(label='Counts')\n",
    "plt.tight_layout()\n",
    "plt.show()"
   ]
  },
  {
   "cell_type": "code",
   "execution_count": 16,
   "metadata": {},
   "outputs": [
    {
     "data": {
      "application/vnd.plotly.v1+json": {
       "config": {
        "plotlyServerURL": "https://plot.ly"
       },
       "data": [
        {
         "colorscale": [
          [
           0,
           "#440154"
          ],
          [
           0.1111111111111111,
           "#482878"
          ],
          [
           0.2222222222222222,
           "#3e4989"
          ],
          [
           0.3333333333333333,
           "#31688e"
          ],
          [
           0.4444444444444444,
           "#26828e"
          ],
          [
           0.5555555555555556,
           "#1f9e89"
          ],
          [
           0.6666666666666666,
           "#35b779"
          ],
          [
           0.7777777777777778,
           "#6ece58"
          ],
          [
           0.8888888888888888,
           "#b5de2b"
          ],
          [
           1,
           "#fde725"
          ]
         ],
         "contours": {
          "showlines": false
         },
         "ncontours": 20,
         "showscale": true,
         "type": "histogram2dcontour",
         "x": {
          "bdata": "2VZA97BLJj8ApxuFlSwmP3Kx9AKKkyY/8N6no4bPKD8EIad26KwlP23SHtwpzyQ/Az4AE3XnIz+9f/ANgagoP4g45Bo53iY/DBA5s4+0JT+CBN9qKywoPyVzefLEOyQ/1fUlK1suJj82VyGWM58nPz7AY0TKEic/Fp3PFITzJT9PCUiXUYglP9OaB4ta0CM/ki+zQ6qOJT+U3Ezv+3EnP5qiDUvdnSY/8XG951fTJT9XIwyRSc0kP+QB8k8kKyc/9KI8lIoDJT8MP0SoNQUmP1D1SbfcNSg/62qJk+idJT/hScu4t1AlP50966BTAyc/8YJnJduzIz8=",
          "dtype": "f8"
         },
         "y": {
          "bdata": "PgU3PrGcJj/hyDWspowmPxOBZlBqwSY/D1B+9l7WJz873yNk5UkmP1hQgRtX0iU/xRNKmj9QJT/ZmvuVTcQnP50UrF4c5yY/T9uwh/BNJj+hbX409IknP8urTYU3gCU/2VgHNJGNJj/rSjOHU0YnP/0z4UZbASc/aTkjG/9uJj/gQP9IfTYmPza/1JD5QiU/agkTSd05Jj+wUVcuSzAnP3mUtNSnxiY/cfr4+SVeJj+MXx/7TtElPz7Hv4hvDSc/UqkwYAHvJT/Wyr7hOHgmP7r/vbeLjic/EJermvRBJj9aJNJUwhgmP/2umAmp+SY/6jEnYIYyJT8=",
          "dtype": "f8"
         }
        },
        {
         "marker": {
          "color": "rgba(0,0,150,0.5)"
         },
         "nbinsx": 50,
         "showlegend": false,
         "type": "histogram",
         "x": {
          "bdata": "2VZA97BLJj8ApxuFlSwmP3Kx9AKKkyY/8N6no4bPKD8EIad26KwlP23SHtwpzyQ/Az4AE3XnIz+9f/ANgagoP4g45Bo53iY/DBA5s4+0JT+CBN9qKywoPyVzefLEOyQ/1fUlK1suJj82VyGWM58nPz7AY0TKEic/Fp3PFITzJT9PCUiXUYglP9OaB4ta0CM/ki+zQ6qOJT+U3Ezv+3EnP5qiDUvdnSY/8XG951fTJT9XIwyRSc0kP+QB8k8kKyc/9KI8lIoDJT8MP0SoNQUmP1D1SbfcNSg/62qJk+idJT/hScu4t1AlP50966BTAyc/8YJnJduzIz8=",
          "dtype": "f8"
         },
         "yaxis": "y2"
        },
        {
         "marker": {
          "color": "rgba(150,0,0,0.5)"
         },
         "nbinsy": 50,
         "showlegend": false,
         "type": "histogram",
         "xaxis": "x2",
         "y": {
          "bdata": "PgU3PrGcJj/hyDWspowmPxOBZlBqwSY/D1B+9l7WJz873yNk5UkmP1hQgRtX0iU/xRNKmj9QJT/ZmvuVTcQnP50UrF4c5yY/T9uwh/BNJj+hbX409IknP8urTYU3gCU/2VgHNJGNJj/rSjOHU0YnP/0z4UZbASc/aTkjG/9uJj/gQP9IfTYmPza/1JD5QiU/agkTSd05Jj+wUVcuSzAnP3mUtNSnxiY/cfr4+SVeJj+MXx/7TtElPz7Hv4hvDSc/UqkwYAHvJT/Wyr7hOHgmP7r/vbeLjic/EJermvRBJj9aJNJUwhgmP/2umAmp+SY/6jEnYIYyJT8=",
          "dtype": "f8"
         }
        }
       ],
       "layout": {
        "bargap": 0.05,
        "height": 700,
        "template": {
         "data": {
          "bar": [
           {
            "error_x": {
             "color": "#2a3f5f"
            },
            "error_y": {
             "color": "#2a3f5f"
            },
            "marker": {
             "line": {
              "color": "#E5ECF6",
              "width": 0.5
             },
             "pattern": {
              "fillmode": "overlay",
              "size": 10,
              "solidity": 0.2
             }
            },
            "type": "bar"
           }
          ],
          "barpolar": [
           {
            "marker": {
             "line": {
              "color": "#E5ECF6",
              "width": 0.5
             },
             "pattern": {
              "fillmode": "overlay",
              "size": 10,
              "solidity": 0.2
             }
            },
            "type": "barpolar"
           }
          ],
          "carpet": [
           {
            "aaxis": {
             "endlinecolor": "#2a3f5f",
             "gridcolor": "white",
             "linecolor": "white",
             "minorgridcolor": "white",
             "startlinecolor": "#2a3f5f"
            },
            "baxis": {
             "endlinecolor": "#2a3f5f",
             "gridcolor": "white",
             "linecolor": "white",
             "minorgridcolor": "white",
             "startlinecolor": "#2a3f5f"
            },
            "type": "carpet"
           }
          ],
          "choropleth": [
           {
            "colorbar": {
             "outlinewidth": 0,
             "ticks": ""
            },
            "type": "choropleth"
           }
          ],
          "contour": [
           {
            "colorbar": {
             "outlinewidth": 0,
             "ticks": ""
            },
            "colorscale": [
             [
              0,
              "#0d0887"
             ],
             [
              0.1111111111111111,
              "#46039f"
             ],
             [
              0.2222222222222222,
              "#7201a8"
             ],
             [
              0.3333333333333333,
              "#9c179e"
             ],
             [
              0.4444444444444444,
              "#bd3786"
             ],
             [
              0.5555555555555556,
              "#d8576b"
             ],
             [
              0.6666666666666666,
              "#ed7953"
             ],
             [
              0.7777777777777778,
              "#fb9f3a"
             ],
             [
              0.8888888888888888,
              "#fdca26"
             ],
             [
              1,
              "#f0f921"
             ]
            ],
            "type": "contour"
           }
          ],
          "contourcarpet": [
           {
            "colorbar": {
             "outlinewidth": 0,
             "ticks": ""
            },
            "type": "contourcarpet"
           }
          ],
          "heatmap": [
           {
            "colorbar": {
             "outlinewidth": 0,
             "ticks": ""
            },
            "colorscale": [
             [
              0,
              "#0d0887"
             ],
             [
              0.1111111111111111,
              "#46039f"
             ],
             [
              0.2222222222222222,
              "#7201a8"
             ],
             [
              0.3333333333333333,
              "#9c179e"
             ],
             [
              0.4444444444444444,
              "#bd3786"
             ],
             [
              0.5555555555555556,
              "#d8576b"
             ],
             [
              0.6666666666666666,
              "#ed7953"
             ],
             [
              0.7777777777777778,
              "#fb9f3a"
             ],
             [
              0.8888888888888888,
              "#fdca26"
             ],
             [
              1,
              "#f0f921"
             ]
            ],
            "type": "heatmap"
           }
          ],
          "histogram": [
           {
            "marker": {
             "pattern": {
              "fillmode": "overlay",
              "size": 10,
              "solidity": 0.2
             }
            },
            "type": "histogram"
           }
          ],
          "histogram2d": [
           {
            "colorbar": {
             "outlinewidth": 0,
             "ticks": ""
            },
            "colorscale": [
             [
              0,
              "#0d0887"
             ],
             [
              0.1111111111111111,
              "#46039f"
             ],
             [
              0.2222222222222222,
              "#7201a8"
             ],
             [
              0.3333333333333333,
              "#9c179e"
             ],
             [
              0.4444444444444444,
              "#bd3786"
             ],
             [
              0.5555555555555556,
              "#d8576b"
             ],
             [
              0.6666666666666666,
              "#ed7953"
             ],
             [
              0.7777777777777778,
              "#fb9f3a"
             ],
             [
              0.8888888888888888,
              "#fdca26"
             ],
             [
              1,
              "#f0f921"
             ]
            ],
            "type": "histogram2d"
           }
          ],
          "histogram2dcontour": [
           {
            "colorbar": {
             "outlinewidth": 0,
             "ticks": ""
            },
            "colorscale": [
             [
              0,
              "#0d0887"
             ],
             [
              0.1111111111111111,
              "#46039f"
             ],
             [
              0.2222222222222222,
              "#7201a8"
             ],
             [
              0.3333333333333333,
              "#9c179e"
             ],
             [
              0.4444444444444444,
              "#bd3786"
             ],
             [
              0.5555555555555556,
              "#d8576b"
             ],
             [
              0.6666666666666666,
              "#ed7953"
             ],
             [
              0.7777777777777778,
              "#fb9f3a"
             ],
             [
              0.8888888888888888,
              "#fdca26"
             ],
             [
              1,
              "#f0f921"
             ]
            ],
            "type": "histogram2dcontour"
           }
          ],
          "mesh3d": [
           {
            "colorbar": {
             "outlinewidth": 0,
             "ticks": ""
            },
            "type": "mesh3d"
           }
          ],
          "parcoords": [
           {
            "line": {
             "colorbar": {
              "outlinewidth": 0,
              "ticks": ""
             }
            },
            "type": "parcoords"
           }
          ],
          "pie": [
           {
            "automargin": true,
            "type": "pie"
           }
          ],
          "scatter": [
           {
            "fillpattern": {
             "fillmode": "overlay",
             "size": 10,
             "solidity": 0.2
            },
            "type": "scatter"
           }
          ],
          "scatter3d": [
           {
            "line": {
             "colorbar": {
              "outlinewidth": 0,
              "ticks": ""
             }
            },
            "marker": {
             "colorbar": {
              "outlinewidth": 0,
              "ticks": ""
             }
            },
            "type": "scatter3d"
           }
          ],
          "scattercarpet": [
           {
            "marker": {
             "colorbar": {
              "outlinewidth": 0,
              "ticks": ""
             }
            },
            "type": "scattercarpet"
           }
          ],
          "scattergeo": [
           {
            "marker": {
             "colorbar": {
              "outlinewidth": 0,
              "ticks": ""
             }
            },
            "type": "scattergeo"
           }
          ],
          "scattergl": [
           {
            "marker": {
             "colorbar": {
              "outlinewidth": 0,
              "ticks": ""
             }
            },
            "type": "scattergl"
           }
          ],
          "scattermap": [
           {
            "marker": {
             "colorbar": {
              "outlinewidth": 0,
              "ticks": ""
             }
            },
            "type": "scattermap"
           }
          ],
          "scattermapbox": [
           {
            "marker": {
             "colorbar": {
              "outlinewidth": 0,
              "ticks": ""
             }
            },
            "type": "scattermapbox"
           }
          ],
          "scatterpolar": [
           {
            "marker": {
             "colorbar": {
              "outlinewidth": 0,
              "ticks": ""
             }
            },
            "type": "scatterpolar"
           }
          ],
          "scatterpolargl": [
           {
            "marker": {
             "colorbar": {
              "outlinewidth": 0,
              "ticks": ""
             }
            },
            "type": "scatterpolargl"
           }
          ],
          "scatterternary": [
           {
            "marker": {
             "colorbar": {
              "outlinewidth": 0,
              "ticks": ""
             }
            },
            "type": "scatterternary"
           }
          ],
          "surface": [
           {
            "colorbar": {
             "outlinewidth": 0,
             "ticks": ""
            },
            "colorscale": [
             [
              0,
              "#0d0887"
             ],
             [
              0.1111111111111111,
              "#46039f"
             ],
             [
              0.2222222222222222,
              "#7201a8"
             ],
             [
              0.3333333333333333,
              "#9c179e"
             ],
             [
              0.4444444444444444,
              "#bd3786"
             ],
             [
              0.5555555555555556,
              "#d8576b"
             ],
             [
              0.6666666666666666,
              "#ed7953"
             ],
             [
              0.7777777777777778,
              "#fb9f3a"
             ],
             [
              0.8888888888888888,
              "#fdca26"
             ],
             [
              1,
              "#f0f921"
             ]
            ],
            "type": "surface"
           }
          ],
          "table": [
           {
            "cells": {
             "fill": {
              "color": "#EBF0F8"
             },
             "line": {
              "color": "white"
             }
            },
            "header": {
             "fill": {
              "color": "#C8D4E3"
             },
             "line": {
              "color": "white"
             }
            },
            "type": "table"
           }
          ]
         },
         "layout": {
          "annotationdefaults": {
           "arrowcolor": "#2a3f5f",
           "arrowhead": 0,
           "arrowwidth": 1
          },
          "autotypenumbers": "strict",
          "coloraxis": {
           "colorbar": {
            "outlinewidth": 0,
            "ticks": ""
           }
          },
          "colorscale": {
           "diverging": [
            [
             0,
             "#8e0152"
            ],
            [
             0.1,
             "#c51b7d"
            ],
            [
             0.2,
             "#de77ae"
            ],
            [
             0.3,
             "#f1b6da"
            ],
            [
             0.4,
             "#fde0ef"
            ],
            [
             0.5,
             "#f7f7f7"
            ],
            [
             0.6,
             "#e6f5d0"
            ],
            [
             0.7,
             "#b8e186"
            ],
            [
             0.8,
             "#7fbc41"
            ],
            [
             0.9,
             "#4d9221"
            ],
            [
             1,
             "#276419"
            ]
           ],
           "sequential": [
            [
             0,
             "#0d0887"
            ],
            [
             0.1111111111111111,
             "#46039f"
            ],
            [
             0.2222222222222222,
             "#7201a8"
            ],
            [
             0.3333333333333333,
             "#9c179e"
            ],
            [
             0.4444444444444444,
             "#bd3786"
            ],
            [
             0.5555555555555556,
             "#d8576b"
            ],
            [
             0.6666666666666666,
             "#ed7953"
            ],
            [
             0.7777777777777778,
             "#fb9f3a"
            ],
            [
             0.8888888888888888,
             "#fdca26"
            ],
            [
             1,
             "#f0f921"
            ]
           ],
           "sequentialminus": [
            [
             0,
             "#0d0887"
            ],
            [
             0.1111111111111111,
             "#46039f"
            ],
            [
             0.2222222222222222,
             "#7201a8"
            ],
            [
             0.3333333333333333,
             "#9c179e"
            ],
            [
             0.4444444444444444,
             "#bd3786"
            ],
            [
             0.5555555555555556,
             "#d8576b"
            ],
            [
             0.6666666666666666,
             "#ed7953"
            ],
            [
             0.7777777777777778,
             "#fb9f3a"
            ],
            [
             0.8888888888888888,
             "#fdca26"
            ],
            [
             1,
             "#f0f921"
            ]
           ]
          },
          "colorway": [
           "#636efa",
           "#EF553B",
           "#00cc96",
           "#ab63fa",
           "#FFA15A",
           "#19d3f3",
           "#FF6692",
           "#B6E880",
           "#FF97FF",
           "#FECB52"
          ],
          "font": {
           "color": "#2a3f5f"
          },
          "geo": {
           "bgcolor": "white",
           "lakecolor": "white",
           "landcolor": "#E5ECF6",
           "showlakes": true,
           "showland": true,
           "subunitcolor": "white"
          },
          "hoverlabel": {
           "align": "left"
          },
          "hovermode": "closest",
          "mapbox": {
           "style": "light"
          },
          "paper_bgcolor": "white",
          "plot_bgcolor": "#E5ECF6",
          "polar": {
           "angularaxis": {
            "gridcolor": "white",
            "linecolor": "white",
            "ticks": ""
           },
           "bgcolor": "#E5ECF6",
           "radialaxis": {
            "gridcolor": "white",
            "linecolor": "white",
            "ticks": ""
           }
          },
          "scene": {
           "xaxis": {
            "backgroundcolor": "#E5ECF6",
            "gridcolor": "white",
            "gridwidth": 2,
            "linecolor": "white",
            "showbackground": true,
            "ticks": "",
            "zerolinecolor": "white"
           },
           "yaxis": {
            "backgroundcolor": "#E5ECF6",
            "gridcolor": "white",
            "gridwidth": 2,
            "linecolor": "white",
            "showbackground": true,
            "ticks": "",
            "zerolinecolor": "white"
           },
           "zaxis": {
            "backgroundcolor": "#E5ECF6",
            "gridcolor": "white",
            "gridwidth": 2,
            "linecolor": "white",
            "showbackground": true,
            "ticks": "",
            "zerolinecolor": "white"
           }
          },
          "shapedefaults": {
           "line": {
            "color": "#2a3f5f"
           }
          },
          "ternary": {
           "aaxis": {
            "gridcolor": "white",
            "linecolor": "white",
            "ticks": ""
           },
           "baxis": {
            "gridcolor": "white",
            "linecolor": "white",
            "ticks": ""
           },
           "bgcolor": "#E5ECF6",
           "caxis": {
            "gridcolor": "white",
            "linecolor": "white",
            "ticks": ""
           }
          },
          "title": {
           "x": 0.05
          },
          "xaxis": {
           "automargin": true,
           "gridcolor": "white",
           "linecolor": "white",
           "ticks": "",
           "title": {
            "standoff": 15
           },
           "zerolinecolor": "white",
           "zerolinewidth": 2
          },
          "yaxis": {
           "automargin": true,
           "gridcolor": "white",
           "linecolor": "white",
           "ticks": "",
           "title": {
            "standoff": 15
           },
           "zerolinecolor": "white",
           "zerolinewidth": 2
          }
         }
        },
        "width": 700,
        "xaxis": {
         "domain": [
          0,
          0.85
         ]
        },
        "xaxis2": {
         "domain": [
          0.85,
          1
         ],
         "showticklabels": false
        },
        "yaxis": {
         "domain": [
          0,
          0.85
         ]
        },
        "yaxis2": {
         "domain": [
          0.85,
          1
         ],
         "showticklabels": false
        }
       }
      }
     },
     "metadata": {},
     "output_type": "display_data"
    }
   ],
   "source": [
    "import plotly.graph_objects as go\n",
    "\n",
    "# Example data\n",
    "x = T1_A_SAMPLE_HI\n",
    "y = T2_A_SAMPLE_HI\n",
    "\n",
    "fig = go.Figure()\n",
    "\n",
    "# 2D contour\n",
    "fig.add_trace(go.Histogram2dContour(\n",
    "    x=x, y=y,\n",
    "    colorscale='Viridis',\n",
    "    contours=dict(showlines=False),\n",
    "    ncontours=20,\n",
    "    showscale=True\n",
    "))\n",
    "\n",
    "# X projection (top)\n",
    "fig.add_trace(go.Histogram(\n",
    "    x=x, yaxis='y2',\n",
    "    marker=dict(color='rgba(0,0,150,0.5)'),\n",
    "    nbinsx=50,\n",
    "    showlegend=False\n",
    "))\n",
    "\n",
    "# Y projection (right)\n",
    "fig.add_trace(go.Histogram(\n",
    "    y=y, xaxis='x2',\n",
    "    marker=dict(color='rgba(150,0,0,0.5)'),\n",
    "    nbinsy=50,\n",
    "    showlegend=False\n",
    "))\n",
    "\n",
    "# Layout for projections\n",
    "fig.update_layout(\n",
    "    xaxis=dict(domain=[0, 0.85]),\n",
    "    yaxis=dict(domain=[0, 0.85]),\n",
    "    xaxis2=dict(domain=[0.85, 1], showticklabels=False),\n",
    "    yaxis2=dict(domain=[0.85, 1], showticklabels=False),\n",
    "    bargap=0.05,\n",
    "    width=700,\n",
    "    height=700,\n",
    ")\n",
    "\n",
    "fig.show()"
   ]
  },
  {
   "cell_type": "code",
   "execution_count": 17,
   "metadata": {},
   "outputs": [
    {
     "name": "stderr",
     "output_type": "stream",
     "text": [
      "/tmp/ipykernel_829276/714245951.py:111: RuntimeWarning:\n",
      "\n",
      "covariance is not symmetric positive-semidefinite.\n",
      "\n"
     ]
    }
   ],
   "source": [
    "T1_A_SAMPLE_LO, T2_A_SAMPLE_LO = correlated_2d_normal(mean1, cov1, size=200)\n",
    "T1_A_SAMPLE_HI, T2_A_SAMPLE_HI = correlated_2d_normal(mean2, cov2, size=200)\n"
   ]
  },
  {
   "cell_type": "code",
   "execution_count": 18,
   "metadata": {},
   "outputs": [
    {
     "name": "stdout",
     "output_type": "stream",
     "text": [
      "[1.66666667 2.85714286 3.75      ]\n"
     ]
    }
   ],
   "source": [
    "print( make_t2(np.array([1,2,3]),10) ) "
   ]
  },
  {
   "cell_type": "code",
   "execution_count": 4,
   "metadata": {},
   "outputs": [
    {
     "data": {
      "image/png": "[encoded data removed]",
      "text/plain": [
       "<Figure size 800x600 with 2 Axes>"
      ]
     },
     "metadata": {},
     "output_type": "display_data"
    }
   ],
   "source": [
    "#T1_A_SAMPLE_LO, T2_A_SAMPLE_LO = correlated_2d_normal(mean1, cov1, size=1000)\n",
    "#T1_A_SAMPLE_HI, T2_A_SAMPLE_HI = correlated_2d_normal(mean2, cov2, size=1000)\n",
    "\n",
    "#T1_A_SAMPLE_LO, T1_A_SAMPLE_HI = sample_bimodal_gaussian_split(50e-6,10e-6,170e-6,10e-6,500) #b1\n",
    "#T1_A_SAMPLE_LO, T1_A_SAMPLE_HI = sample_bimodal_gaussian_split(50e-6,10e-6,220e-6,10e-6,10) #b1a\n",
    "T1_A_SAMPLE_LO, T1_A_SAMPLE_HI = sample_bimodal_gaussian_split(30e-6,5e-6,170e-6,10e-6, 5) #b1b\n",
    "\n",
    "#T1_A_SAMPLE_LO, T1_A_SAMPLE_HI = sample_bimodal_gaussian_split(120e-6,10e-6,170e-6,10e-6,200) #b2\n",
    "#T1_A_SAMPLE_LO, T1_A_SAMPLE_HI = sample_bimodal_gaussian_split(120e-6,5e-6,170e-6,10e-6,10) #b2b\n",
    "\n",
    "T2_A_SAMPLE_LO = make_t2(T1_A_SAMPLE_LO, 350e-6) # 350 or 220\n",
    "T2_A_SAMPLE_HI = make_t2(T1_A_SAMPLE_HI, 350e-6)\n",
    "\n",
    "\n",
    "\n",
    "# Create 2D histogram (heatmap)\n",
    "plt.figure(figsize=(8, 6))\n",
    "plt.hist2d(np.concatenate([T1_A_SAMPLE_LO,T1_A_SAMPLE_HI])*1e6, np.concatenate([T2_A_SAMPLE_LO,T2_A_SAMPLE_HI])*1e6, bins=50, cmap='viridis')\n",
    "#plt.hist2d(T2_A_SAMPLE_HI*1e6, T1_A_SAMPLE_HI*1e6, bins=50, cmap='viridis')\n",
    "#plt.contour(sample0, sample1, bins=50, cmap='viridis')\n",
    "plt.xlabel(\"T1 ($\\\\mu$s)\")\n",
    "plt.ylabel(\"T*2 ($\\\\mu$s)\")\n",
    "plt.colorbar(label='Counts')\n",
    "plt.tight_layout()\n",
    "plt.show()\n"
   ]
  },
  {
   "cell_type": "code",
   "execution_count": 5,
   "metadata": {},
   "outputs": [
    {
     "data": {
      "image/png": "[encoded data removed]",
      "text/plain": [
       "<Figure size 800x500 with 1 Axes>"
      ]
     },
     "metadata": {},
     "output_type": "display_data"
    }
   ],
   "source": [
    "import matplotlib.pyplot as plt\n",
    "\n",
    "#T1_A_SAMPLE_LO, T1_A_SAMPLE_HI = sample_bimodal_gaussian_split(120e-6,10e-6,170e-6,10e-6,500)\n",
    "\n",
    "# Drawn from PDF\n",
    "plt.figure(figsize=(8, 5))\n",
    "plt.hist(np.concatenate([T1_A_SAMPLE_LO,T1_A_SAMPLE_HI])*1e6, bins=100, alpha=0.7, color='steelblue', edgecolor='black')\n",
    "#plt.hist(T1_A_SAMPLE_HI*1e6, bins=100, alpha=0.7, color='steelblue', edgecolor='black')\n",
    "\n",
    "plt.xlabel(\"$\\\\mu$s\")\n",
    "plt.ylabel(\"Count\")\n",
    "plt.title(\"T1\")\n",
    "plt.grid(True)\n",
    "plt.show()"
   ]
  },
  {
   "cell_type": "markdown",
   "metadata": {},
   "source": [
    "## with ZZ coupling"
   ]
  },
  {
   "cell_type": "code",
   "execution_count": 6,
   "metadata": {},
   "outputs": [
    {
     "name": "stdout",
     "output_type": "stream",
     "text": [
      "Job: 0\n",
      "loop: 0 time: 20250828_130658\n",
      "Saved results to results_t1_lo_05mhz_tp350b1b_100s801p_re_5evt_t1t2XX_20250828_141621_gphi.npz\n",
      "Job: 1\n",
      "loop: 0 time: 20250828_141621\n",
      "Saved results to results_t1_hi_05mhz_tp350b1b_100s801p_re_5evt_t1t2XX_20250828_160012_gphi.npz\n"
     ]
    }
   ],
   "source": [
    "\n",
    "# Two-qubit simultaneous-Ramsey with ZZ coupling + T1/T2\n",
    "# ---------------------------------------------------------------\n",
    "import numpy as np, qutip as qt, matplotlib.pyplot as plt\n",
    "from datetime import datetime\n",
    "\n",
    "for j in range(0,2):\n",
    "    print(f\"Job: {j}\")\n",
    "    name_hint = \"\"\n",
    "    chi_MHz = 0.0\n",
    "    T1_A_SAMPLE = []\n",
    "    T2_A_SAMPLE = []\n",
    "\n",
    "    #ver_str = \"tp350b2_05s201p_re\" # usual name\n",
    "    ver_str = \"tp350b1b_100s801p_re_5evt\" # old freq !!restart at 4!! \n",
    "    \n",
    "\n",
    "    if j==0: # lo 0mhz\n",
    "        name_hint=\"lo_05mhz\"\n",
    "        T1_A_SAMPLE=T1_A_SAMPLE_LO\n",
    "        T2_A_SAMPLE=T2_A_SAMPLE_LO\n",
    "        chi_MHz = 0.005\n",
    "    if j==1: # hi 0mhz\n",
    "        name_hint=\"hi_05mhz\"\n",
    "        T1_A_SAMPLE=T1_A_SAMPLE_HI\n",
    "        T2_A_SAMPLE=T2_A_SAMPLE_HI\n",
    "        chi_MHz = 0.005\n",
    "    if j==2: # lo 10mhz\n",
    "        name_hint=\"lo_10mhz\"\n",
    "        T1_A_SAMPLE=T1_A_SAMPLE_LO\n",
    "        T2_A_SAMPLE=T2_A_SAMPLE_LO\n",
    "        chi_MHz = 0.01\n",
    "    if j==3: # hi 10mhz\n",
    "        name_hint=\"hi_10mhz\"\n",
    "        T1_A_SAMPLE=T1_A_SAMPLE_HI\n",
    "        T2_A_SAMPLE=T2_A_SAMPLE_HI\n",
    "        chi_MHz = 0.01\n",
    "    if j==4: # lo 50mhz\n",
    "        name_hint=\"lo_50mhz\"\n",
    "        T1_A_SAMPLE=T1_A_SAMPLE_LO\n",
    "        T2_A_SAMPLE=T2_A_SAMPLE_LO\n",
    "        chi_MHz = 0.05\n",
    "    if j==5: # hi 50mhz\n",
    "        name_hint=\"hi_50mhz\"\n",
    "        T1_A_SAMPLE=T1_A_SAMPLE_HI\n",
    "        T2_A_SAMPLE=T2_A_SAMPLE_HI\n",
    "        chi_MHz = 0.05\n",
    "    if j==6: # lo 100mhz\n",
    "        name_hint=\"lo_100mhz\"\n",
    "        T1_A_SAMPLE=T1_A_SAMPLE_LO\n",
    "        T2_A_SAMPLE=T2_A_SAMPLE_LO\n",
    "        chi_MHz = 0.1\n",
    "    if j==7: # hi 100mhz\n",
    "        name_hint=\"hi_100mhz\"\n",
    "        T1_A_SAMPLE=T1_A_SAMPLE_HI\n",
    "        T2_A_SAMPLE=T2_A_SAMPLE_HI\n",
    "        chi_MHz = 0.1    \n",
    "    if j==8: # lo 300mhz\n",
    "        name_hint=\"lo_300mhz\"\n",
    "        T1_A_SAMPLE=T1_A_SAMPLE_LO\n",
    "        T2_A_SAMPLE=T2_A_SAMPLE_LO\n",
    "        chi_MHz = 0.3\n",
    "    if j==9: # hi 300mhz\n",
    "        name_hint=\"hi_300mhz\"\n",
    "        T1_A_SAMPLE=T1_A_SAMPLE_HI\n",
    "        T2_A_SAMPLE=T2_A_SAMPLE_HI\n",
    "        chi_MHz = 0.3\n",
    "    if j==10: # lo 30mhz\n",
    "        name_hint=\"lo_30mhz\"\n",
    "        T1_A_SAMPLE=T1_A_SAMPLE_LO\n",
    "        T2_A_SAMPLE=T2_A_SAMPLE_LO\n",
    "        chi_MHz = 0.03\n",
    "    if j==11: # hi 30mhz\n",
    "        name_hint=\"hi_30mhz\"\n",
    "        T1_A_SAMPLE=T1_A_SAMPLE_HI\n",
    "        T2_A_SAMPLE=T2_A_SAMPLE_HI\n",
    "        chi_MHz = 0.03\n",
    "\n",
    "    expA_list = []\n",
    "    expB_list = []\n",
    "    counter = 0 \n",
    "\n",
    "    for i in range(len(T1_A_SAMPLE)):\n",
    "        iT1_A = T1_A_SAMPLE[i]\n",
    "        IT2_A = T2_A_SAMPLE[i]\n",
    "        if counter%10==0:\n",
    "            timestamp = datetime.now().strftime(\"%Y%m%d_%H%M%S\")\n",
    "            print(f'loop: {counter} time: {timestamp}')\n",
    "        counter+=1\n",
    "\n",
    "        #fA = iQ_A #3.000e9          # qubit bare freqs  (Hz)\n",
    "        #fA = 3.000e9          # qubit bare freqs  (Hz)\n",
    "        #fB = 3.040e9        \n",
    "        fA = 3.440e9          # qubit bare freqs  (Hz) id as \"re\" type\n",
    "        fB = 3.330e9\n",
    "        detA = detB = 3e6         # norm = 3         # Ramsey detuning   (Hz)\n",
    "        #chi_MHz     = #0.6 #0.6                   # ZZ  (MHz)  (0 → no beating)\n",
    "\n",
    "        #T1_A = 110e-6 # iQ_A \n",
    "        T1_A = iT1_A \n",
    "        T1_B = 150e-6 #170e-6                 # T1  (s)\n",
    "        T2_A = IT2_A                  # average?\n",
    "        T2_B = 180e-6 #190e-6                 # desired T2 (s)\n",
    "\n",
    "        #t_ns = np.linspace(0, 5000, 401)    # free-evolution delays (ns)\n",
    "        #t_ns = np.linspace(0, 10000, 401)    # free-evolution delays (ns)\n",
    "        #t_ns = np.linspace(0, 100000, 150)    # free-evolution delays (ns)\n",
    "        #t_ns = np.linspace(0, 10000, 101)\n",
    "        #t_ns = np.linspace(0, 5000, 201) # best\n",
    "        #t_ns = np.linspace(0, 40000, 501) # test\n",
    "        t_ns = np.linspace(0, 100000, 801) # test\n",
    "        #t_ns = np.linspace(0, 50000, 801) # test\n",
    "\n",
    "        wA,wB   = 2*np.pi*np.array([fA,fB])\n",
    "        chi     = 2*np.pi*chi_MHz*1e6\n",
    "        EdA,EdB = 0.011*wA, 0.011*wB          # 0.01 Rabi → τπ/2≈8 ns\n",
    "        pi2A,pi2B = np.pi/(2*EdA), np.pi/(2*EdB)\n",
    "        tau_p   = float(max(pi2A,pi2B))\n",
    "\n",
    "        I,sx,sz,sm = qt.qeye(2),qt.sigmax(),qt.sigmaz(),qt.destroy(2)\n",
    "        sxA,sxB = qt.tensor(sx,I), qt.tensor(I,sx)\n",
    "        szA,szB = qt.tensor(sz,I), qt.tensor(I,sz)\n",
    "        smA,smB = qt.tensor(sm,I), qt.tensor(I,sm)\n",
    "        nA,nB   = qt.tensor(qt.num(2),I),   qt.tensor(I,qt.num(2))\n",
    "\n",
    "        # ─── Collapse operators for given T1 and T2 ─────────────────\n",
    "        def collapse_ops(T1,T2,sm_op,sz_op):\n",
    "            g1  = 1/T1\n",
    "            gphi = max(0, 1/T2 - g1/2)      # 1/T2 = 1/(2T1)+1/Tphi\n",
    "            return [np.sqrt(g1)*sm_op, np.sqrt(0.5*gphi)*sz_op] # need 0.5?\n",
    "\n",
    "        c_ops = ( collapse_ops(T1_A,T2_A,smA,szA) +\n",
    "                  collapse_ops(T1_B,T2_B,smB,szB) )\n",
    "\n",
    "        # ─── Static Hamiltonian ───────────────────────────\n",
    "        H0 = 0.5*wA*szA + 0.5*wB*szB + chi/4*szA*szB\n",
    "        #H0 = 0.5*wB*szB\n",
    "\n",
    "        def gate_coeff(ω,amp,t0,t1):\n",
    "            return lambda t,args=None: amp*np.cos(ω*t) if t0<=t<t1 else 0.0\n",
    "\n",
    "        def H_sequence(delay_s):\n",
    "            t1s,t1e = 0.0,        pi2A\n",
    "            t2s,t2e = tau_p,      tau_p+pi2A\n",
    "            return [H0,\n",
    "                    [sxA, gate_coeff(wA+2*np.pi*detA, EdA, t1s, t1e)],\n",
    "                    [sxB, gate_coeff(wB+2*np.pi*detB, EdB, t1s, pi2B)],\n",
    "                    [sxA, gate_coeff(wA+2*np.pi*detA, EdA, t2s+delay_s, t2e+delay_s)],\n",
    "                    [sxB, gate_coeff(wB+2*np.pi*detB, EdB, t2s+delay_s, pi2B+tau_p+delay_s)]], \\\n",
    "                   2*tau_p + delay_s\n",
    "\n",
    "        # ───  Ramsey point (single integration) ──────────────────────\n",
    "        #opts = qt.Options(nsteps=20000, store_final_state=True, atol=1e-7, rtol=1e-6)\n",
    "        opts = {'nsteps':20000, 'store_final_state':True, 'atol':1e-7, 'rtol':1e-6}\n",
    "        psi_g = qt.tensor(qt.basis(2,0), qt.basis(2,0))\n",
    "\n",
    "        def ramsey(delay_ns):\n",
    "            τ = delay_ns*1e-9\n",
    "            H,t_tot = H_sequence(τ)\n",
    "            tlist = np.linspace(0,t_tot,int(t_tot/2e-9)+1)  # 2-ns solver step\n",
    "            st = qt.mesolve(H, psi_g, tlist, c_ops, e_ops=[], options=opts).states[-1]\n",
    "            return qt.expect(nA,st), qt.expect(nB,st)\n",
    "\n",
    "        expA,expB = np.array(qt.parallel_map(ramsey,t_ns,progress_bar=False, map_kw={\"num_cpus\":90})).T\n",
    "        #expA,expB = np.array([ramsey(t) for t in t_ns]).T\n",
    "\n",
    "        expA_list.append(expA)\n",
    "        expB_list.append(expB)    \n",
    "\n",
    "    # write to file\n",
    "    # Create a timestamp string\n",
    "    timestamp = datetime.now().strftime(\"%Y%m%d_%H%M%S\")\n",
    "\n",
    "    # Create filename\n",
    "    filename = f\"results_t1_{name_hint}_{ver_str}_t1t2XX_{timestamp}_gphi.npz\"\n",
    "\n",
    "    # Save the lists to a compressed npz file\n",
    "    np.savez(filename, expA_list=expA_list, expB_list=expB_list, T1_A_SAMPLE=T1_A_SAMPLE, T2_A_SAMPLE=T2_A_SAMPLE, t_ns=t_ns)\n",
    "\n",
    "    print(f\"Saved results to {filename}\")\n"
   ]
  },
  {
   "cell_type": "markdown",
   "metadata": {},
   "source": [
    "# --STOP--"
   ]
  },
  {
   "cell_type": "code",
   "execution_count": null,
   "metadata": {},
   "outputs": [],
   "source": [
    "def load_from_file(filename):\n",
    "    # filename = \"results_t1_10khz_YYYYMMDD_HHMMSS.npz\"\n",
    "\n",
    "    # Load the data\n",
    "    data = np.load(filename)\n",
    "\n",
    "    # Access arrays by their keys\n",
    "    return data[\"expA_list\"], data[\"expB_list\"], data[\"T1_A_SAMPLE\"]\n",
    "\n",
    "a0,b0,l0 = load_from_file('results_t1_10khz_20250721_122335.npz')\n",
    "a1,b1,l1 = load_from_file('results_t1_10khz_20250721_124533.npz')\n",
    "a2,b2,l2 = load_from_file('results_t1_10khz_20250721_133343.npz')\n",
    "\n",
    "expA_list= np.concatenate([a0, a1, a2])\n",
    "expB_list= np.concatenate([b0, b1, b2])\n",
    "T1_A_SAMPLE= np.concatenate([l0, l1, l2])\n",
    "\n",
    "t_ns = np.linspace(0, 5000, 401)    # free-evolution delays (ns)\n",
    "\n",
    "#\n",
    "expA_list,expB_list,T1_A_SAMPLE = load_from_file('results_t1_10khz_t1t2XX_20250723_141101.npz')\n",
    "\n",
    "# results_t1_0khz_20250721_172845 150 evt \n",
    "# results_t1_10khz_t2a170_20250722_170445 150 evt\n",
    "# results_t1_10khz_t1t2XX_20250723_141101\n",
    "# results_t1_10khz_t1t2XX_20250723_154839_gphi\n",
    "# results_t1_600khz_t1t2XX_20250723_164919_gphi\n",
    "\n",
    "#expA_list1,expB_list1,T1_A_SAMPLE1 = load_from_file('results_t1_lo_600mhz_t1t2XX_20250724_024421_gphi.npz') # org slides\n",
    "#expA_list2,expB_list2,T1_A_SAMPLE2 = load_from_file('results_t1_hi_600mhz_t1t2XX_20250724_044908_gphi.npz')\n",
    "expA_list1,expB_list1,T1_A_SAMPLE1 = load_from_file('results_t1_lo_0mhz_t1t2XX_20250723_232039_gphi.npz') # org slides\n",
    "expA_list2,expB_list2,T1_A_SAMPLE2 = load_from_file('results_t1_hi_0mhz_t1t2XX_20250724_003934_gphi.npz')\n",
    "expA_list= np.concatenate([expA_list1, expA_list2])\n",
    "expB_list= np.concatenate([expB_list1, expB_list2])\n",
    "T1_A_SAMPLE= np.concatenate([T1_A_SAMPLE1, T1_A_SAMPLE2])\n",
    "\n"
   ]
  },
  {
   "cell_type": "code",
   "execution_count": null,
   "metadata": {},
   "outputs": [
    {
     "data": {
      "image/png": "[encoded data removed]",
      "text/plain": [
       "<Figure size 2000x400 with 2 Axes>"
      ]
     },
     "metadata": {},
     "output_type": "display_data"
    }
   ],
   "source": [
    "expA = expA_list[0]\n",
    "expB = expB_list[0]\n",
    "    \n",
    "# ───  Plot ───────────────────────────────────────────────────\n",
    "plt.figure(figsize=(20,4))\n",
    "plt.subplot(121); plt.plot(t_ns/1000,expA,'.-'); plt.title('Qubit A'); plt.xlabel('delay (µs)'); plt.ylabel('P(e)')\n",
    "plt.subplot(122); plt.plot(t_ns/1000,expB,'.-'); plt.title('Qubit B'); plt.xlabel('delay (µs)')\n",
    "plt.suptitle(f'detuning = {detA/1e6:.1f} MHz   χ = {chi_MHz:.1f} MHz\\nT1={T1_A*1e6:.0f} µs  T2={T2_A*1e6:.0f} µs')\n",
    "plt.tight_layout(); plt.show()"
   ]
  },
  {
   "attachments": {
    "image.png": {
     "image/png": "[encoded data removed]"
    }
   },
   "cell_type": "markdown",
   "metadata": {},
   "source": [
    "## FIT with one amplitude\n",
    "![image.png](attachment:image.png)"
   ]
  },
  {
   "cell_type": "code",
   "execution_count": null,
   "metadata": {},
   "outputs": [
    {
     "name": "stderr",
     "output_type": "stream",
     "text": [
      "/tmp/ipykernel_2191011/1050199888.py:51: OptimizeWarning: Covariance of the parameters could not be estimated\n",
      "  pA,_ = curve_fit(single_cos, t_s, expA, p0=p0A,  maxfev=30000)\n",
      "/tmp/ipykernel_2191011/1050199888.py:52: OptimizeWarning: Covariance of the parameters could not be estimated\n",
      "  pB,_ = curve_fit(single_cos, t_s, expB, p0=p0B,  maxfev=30000)\n"
     ]
    },
    {
     "name": "stdout",
     "output_type": "stream",
     "text": [
      "Qubit-A:  f1 = 3.000 MHz   f2 = 3.192 MHz   T2 = 57.0 µs\n",
      "Qubit-B:  f1 = 3.000 MHz   f2 = 3.192 MHz   T2 = 162.2 µs\n",
      "Qubit-A:  f1 = 3.000 MHz   f2 = 3.192 MHz   T2 = 72.3 µs\n",
      "Qubit-B:  f1 = 3.000 MHz   f2 = 3.192 MHz   T2 = 162.3 µs\n",
      "Qubit-A:  f1 = 3.000 MHz   f2 = 3.192 MHz   T2 = 68.3 µs\n",
      "Qubit-B:  f1 = 3.000 MHz   f2 = 3.192 MHz   T2 = 162.2 µs\n",
      "Qubit-A:  f1 = 3.000 MHz   f2 = 3.192 MHz   T2 = 43.8 µs\n",
      "Qubit-B:  f1 = 3.000 MHz   f2 = 3.192 MHz   T2 = 162.1 µs\n",
      "Qubit-A:  f1 = 3.000 MHz   f2 = 3.192 MHz   T2 = 36.7 µs\n",
      "Qubit-B:  f1 = 3.000 MHz   f2 = 3.192 MHz   T2 = 162.0 µs\n",
      "Qubit-A:  f1 = 3.000 MHz   f2 = 3.192 MHz   T2 = 8.3 µs\n",
      "Qubit-B:  f1 = 3.001 MHz   f2 = 3.192 MHz   T2 = 159.9 µs\n",
      "Qubit-A:  f1 = 3.000 MHz   f2 = 3.192 MHz   T2 = 35.8 µs\n",
      "Qubit-B:  f1 = 3.000 MHz   f2 = 3.192 MHz   T2 = 162.0 µs\n",
      "Qubit-A:  f1 = 3.000 MHz   f2 = 3.192 MHz   T2 = 33.7 µs\n",
      "Qubit-B:  f1 = 3.000 MHz   f2 = 3.192 MHz   T2 = 162.0 µs\n",
      "Qubit-A:  f1 = 3.000 MHz   f2 = 3.192 MHz   T2 = 35.3 µs\n",
      "Qubit-B:  f1 = 3.000 MHz   f2 = 3.192 MHz   T2 = 162.0 µs\n",
      "Qubit-A:  f1 = 3.000 MHz   f2 = 3.192 MHz   T2 = 54.0 µs\n",
      "Qubit-B:  f1 = 3.000 MHz   f2 = 3.192 MHz   T2 = 162.2 µs\n",
      "Qubit-A:  f1 = 3.000 MHz   f2 = 3.192 MHz   T2 = 26.9 µs\n",
      "Qubit-B:  f1 = 3.000 MHz   f2 = 3.192 MHz   T2 = 161.9 µs\n",
      "Qubit-A:  f1 = 3.000 MHz   f2 = 3.192 MHz   T2 = 58.5 µs\n",
      "Qubit-B:  f1 = 3.000 MHz   f2 = 3.192 MHz   T2 = 162.2 µs\n",
      "Qubit-A:  f1 = 3.000 MHz   f2 = 3.192 MHz   T2 = 36.3 µs\n",
      "Qubit-B:  f1 = 3.000 MHz   f2 = 3.192 MHz   T2 = 162.0 µs\n",
      "Qubit-A:  f1 = 3.000 MHz   f2 = 3.192 MHz   T2 = 33.9 µs\n",
      "Qubit-B:  f1 = 3.000 MHz   f2 = 3.192 MHz   T2 = 162.0 µs\n",
      "Qubit-A:  f1 = 3.000 MHz   f2 = 3.192 MHz   T2 = 65.3 µs\n",
      "Qubit-B:  f1 = 3.000 MHz   f2 = 3.192 MHz   T2 = 162.3 µs\n",
      "Qubit-A:  f1 = 3.000 MHz   f2 = 3.192 MHz   T2 = 55.0 µs\n",
      "Qubit-B:  f1 = 3.000 MHz   f2 = 3.192 MHz   T2 = 162.3 µs\n",
      "Qubit-A:  f1 = 3.000 MHz   f2 = 3.192 MHz   T2 = 50.4 µs\n",
      "Qubit-B:  f1 = 3.000 MHz   f2 = 3.192 MHz   T2 = 162.2 µs\n",
      "Qubit-A:  f1 = 3.000 MHz   f2 = 3.192 MHz   T2 = 33.6 µs\n",
      "Qubit-B:  f1 = 3.000 MHz   f2 = 3.192 MHz   T2 = 162.0 µs\n",
      "Qubit-A:  f1 = 3.000 MHz   f2 = 3.192 MHz   T2 = 41.4 µs\n",
      "Qubit-B:  f1 = 3.000 MHz   f2 = 3.192 MHz   T2 = 162.0 µs\n",
      "Qubit-A:  f1 = 3.000 MHz   f2 = 3.192 MHz   T2 = 69.0 µs\n",
      "Qubit-B:  f1 = 3.000 MHz   f2 = 3.192 MHz   T2 = 162.2 µs\n",
      "Qubit-A:  f1 = 3.000 MHz   f2 = 3.192 MHz   T2 = 35.6 µs\n",
      "Qubit-B:  f1 = 3.000 MHz   f2 = 3.192 MHz   T2 = 162.0 µs\n",
      "Qubit-A:  f1 = 3.000 MHz   f2 = 3.192 MHz   T2 = 35.2 µs\n",
      "Qubit-B:  f1 = 3.000 MHz   f2 = 3.192 MHz   T2 = 162.0 µs\n",
      "Qubit-A:  f1 = 3.000 MHz   f2 = 3.192 MHz   T2 = 47.5 µs\n",
      "Qubit-B:  f1 = 3.000 MHz   f2 = 3.192 MHz   T2 = 162.1 µs\n",
      "Qubit-A:  f1 = 3.000 MHz   f2 = 3.192 MHz   T2 = 41.2 µs\n",
      "Qubit-B:  f1 = 3.000 MHz   f2 = 3.192 MHz   T2 = 162.1 µs\n",
      "Qubit-A:  f1 = 3.000 MHz   f2 = 3.192 MHz   T2 = 35.3 µs\n",
      "Qubit-B:  f1 = 3.000 MHz   f2 = 3.192 MHz   T2 = 162.0 µs\n",
      "Qubit-A:  f1 = 3.000 MHz   f2 = 3.192 MHz   T2 = 43.1 µs\n",
      "Qubit-B:  f1 = 3.000 MHz   f2 = 3.192 MHz   T2 = 162.2 µs\n",
      "Qubit-A:  f1 = 3.000 MHz   f2 = 3.192 MHz   T2 = 43.5 µs\n",
      "Qubit-B:  f1 = 3.000 MHz   f2 = 3.192 MHz   T2 = 162.1 µs\n",
      "Qubit-A:  f1 = 3.000 MHz   f2 = 3.192 MHz   T2 = 57.9 µs\n",
      "Qubit-B:  f1 = 3.000 MHz   f2 = 3.192 MHz   T2 = 162.2 µs\n",
      "Qubit-A:  f1 = 3.000 MHz   f2 = 3.192 MHz   T2 = 52.6 µs\n",
      "Qubit-B:  f1 = 3.000 MHz   f2 = 3.192 MHz   T2 = 162.1 µs\n",
      "Qubit-A:  f1 = 3.000 MHz   f2 = 3.192 MHz   T2 = 65.9 µs\n",
      "Qubit-B:  f1 = 3.000 MHz   f2 = 3.192 MHz   T2 = 162.3 µs\n",
      "Qubit-A:  f1 = 3.000 MHz   f2 = 3.192 MHz   T2 = 61.7 µs\n",
      "Qubit-B:  f1 = 3.000 MHz   f2 = 3.192 MHz   T2 = 162.3 µs\n",
      "Qubit-A:  f1 = 3.000 MHz   f2 = 3.192 MHz   T2 = 66.3 µs\n",
      "Qubit-B:  f1 = 3.000 MHz   f2 = 3.192 MHz   T2 = 162.3 µs\n",
      "Qubit-A:  f1 = 3.000 MHz   f2 = 3.192 MHz   T2 = 53.0 µs\n",
      "Qubit-B:  f1 = 3.000 MHz   f2 = 3.192 MHz   T2 = 162.2 µs\n",
      "Qubit-A:  f1 = 3.000 MHz   f2 = 3.192 MHz   T2 = 87.5 µs\n",
      "Qubit-B:  f1 = 3.000 MHz   f2 = 3.192 MHz   T2 = 162.3 µs\n",
      "Qubit-A:  f1 = 3.000 MHz   f2 = 3.192 MHz   T2 = 49.4 µs\n",
      "Qubit-B:  f1 = 3.000 MHz   f2 = 3.192 MHz   T2 = 162.2 µs\n",
      "Qubit-A:  f1 = 3.000 MHz   f2 = 3.192 MHz   T2 = 48.8 µs\n",
      "Qubit-B:  f1 = 3.000 MHz   f2 = 3.192 MHz   T2 = 162.1 µs\n",
      "Qubit-A:  f1 = 3.000 MHz   f2 = 3.192 MHz   T2 = 40.2 µs\n",
      "Qubit-B:  f1 = 3.000 MHz   f2 = 3.192 MHz   T2 = 162.1 µs\n",
      "Qubit-A:  f1 = 3.000 MHz   f2 = 3.192 MHz   T2 = 67.1 µs\n",
      "Qubit-B:  f1 = 3.000 MHz   f2 = 3.192 MHz   T2 = 162.2 µs\n",
      "Qubit-A:  f1 = 3.000 MHz   f2 = 3.192 MHz   T2 = 61.3 µs\n",
      "Qubit-B:  f1 = 3.000 MHz   f2 = 3.192 MHz   T2 = 162.2 µs\n",
      "Qubit-A:  f1 = 3.000 MHz   f2 = 3.192 MHz   T2 = 44.1 µs\n",
      "Qubit-B:  f1 = 3.000 MHz   f2 = 3.192 MHz   T2 = 162.1 µs\n",
      "Qubit-A:  f1 = 3.000 MHz   f2 = 3.192 MHz   T2 = 65.4 µs\n",
      "Qubit-B:  f1 = 3.000 MHz   f2 = 3.192 MHz   T2 = 162.2 µs\n",
      "Qubit-A:  f1 = 3.000 MHz   f2 = 3.192 MHz   T2 = 52.8 µs\n",
      "Qubit-B:  f1 = 3.000 MHz   f2 = 3.192 MHz   T2 = 162.1 µs\n",
      "Qubit-A:  f1 = 3.000 MHz   f2 = 3.192 MHz   T2 = 51.0 µs\n",
      "Qubit-B:  f1 = 3.000 MHz   f2 = 3.192 MHz   T2 = 162.2 µs\n",
      "Qubit-A:  f1 = 3.000 MHz   f2 = 3.192 MHz   T2 = 52.3 µs\n",
      "Qubit-B:  f1 = 3.000 MHz   f2 = 3.192 MHz   T2 = 162.2 µs\n",
      "Qubit-A:  f1 = 3.000 MHz   f2 = 3.192 MHz   T2 = 51.8 µs\n",
      "Qubit-B:  f1 = 3.000 MHz   f2 = 3.192 MHz   T2 = 162.2 µs\n",
      "Qubit-A:  f1 = 3.000 MHz   f2 = 3.192 MHz   T2 = 61.6 µs\n",
      "Qubit-B:  f1 = 3.000 MHz   f2 = 3.192 MHz   T2 = 162.2 µs\n",
      "Qubit-A:  f1 = 3.000 MHz   f2 = 3.192 MHz   T2 = 65.6 µs\n",
      "Qubit-B:  f1 = 3.000 MHz   f2 = 3.192 MHz   T2 = 162.3 µs\n",
      "Qubit-A:  f1 = 3.000 MHz   f2 = 3.192 MHz   T2 = 46.8 µs\n",
      "Qubit-B:  f1 = 3.000 MHz   f2 = 3.192 MHz   T2 = 162.2 µs\n",
      "Qubit-A:  f1 = 3.000 MHz   f2 = 3.192 MHz   T2 = 45.4 µs\n",
      "Qubit-B:  f1 = 3.000 MHz   f2 = 3.192 MHz   T2 = 162.1 µs\n",
      "Qubit-A:  f1 = 3.000 MHz   f2 = 3.192 MHz   T2 = 39.7 µs\n",
      "Qubit-B:  f1 = 3.000 MHz   f2 = 3.192 MHz   T2 = 162.1 µs\n",
      "Qubit-A:  f1 = 3.000 MHz   f2 = 3.192 MHz   T2 = 58.8 µs\n",
      "Qubit-B:  f1 = 3.000 MHz   f2 = 3.192 MHz   T2 = 162.3 µs\n",
      "Qubit-A:  f1 = 3.000 MHz   f2 = 3.192 MHz   T2 = 57.2 µs\n",
      "Qubit-B:  f1 = 3.000 MHz   f2 = 3.192 MHz   T2 = 162.2 µs\n",
      "Qubit-A:  f1 = 3.000 MHz   f2 = 3.192 MHz   T2 = 66.7 µs\n",
      "Qubit-B:  f1 = 3.000 MHz   f2 = 3.192 MHz   T2 = 162.3 µs\n",
      "Qubit-A:  f1 = 3.000 MHz   f2 = 3.192 MHz   T2 = 68.2 µs\n",
      "Qubit-B:  f1 = 3.000 MHz   f2 = 3.192 MHz   T2 = 162.3 µs\n",
      "Qubit-A:  f1 = 3.000 MHz   f2 = 3.192 MHz   T2 = 31.9 µs\n",
      "Qubit-B:  f1 = 3.000 MHz   f2 = 3.192 MHz   T2 = 162.0 µs\n",
      "Qubit-A:  f1 = 3.000 MHz   f2 = 3.192 MHz   T2 = 60.4 µs\n",
      "Qubit-B:  f1 = 3.000 MHz   f2 = 3.192 MHz   T2 = 162.2 µs\n",
      "Qubit-A:  f1 = 3.000 MHz   f2 = 3.192 MHz   T2 = 74.7 µs\n",
      "Qubit-B:  f1 = 3.000 MHz   f2 = 3.192 MHz   T2 = 162.3 µs\n",
      "Qubit-A:  f1 = 3.000 MHz   f2 = 3.192 MHz   T2 = 53.9 µs\n",
      "Qubit-B:  f1 = 3.000 MHz   f2 = 3.192 MHz   T2 = 162.2 µs\n",
      "Qubit-A:  f1 = 3.000 MHz   f2 = 3.192 MHz   T2 = 35.2 µs\n",
      "Qubit-B:  f1 = 3.000 MHz   f2 = 3.192 MHz   T2 = 162.0 µs\n",
      "Qubit-A:  f1 = 3.000 MHz   f2 = 3.192 MHz   T2 = 76.0 µs\n",
      "Qubit-B:  f1 = 3.000 MHz   f2 = 3.192 MHz   T2 = 162.4 µs\n",
      "Qubit-A:  f1 = 3.000 MHz   f2 = 3.192 MHz   T2 = 60.4 µs\n",
      "Qubit-B:  f1 = 3.000 MHz   f2 = 3.192 MHz   T2 = 162.2 µs\n",
      "Qubit-A:  f1 = 3.000 MHz   f2 = 3.192 MHz   T2 = 57.6 µs\n",
      "Qubit-B:  f1 = 3.000 MHz   f2 = 3.192 MHz   T2 = 162.2 µs\n",
      "Qubit-A:  f1 = 3.000 MHz   f2 = 3.192 MHz   T2 = 51.6 µs\n",
      "Qubit-B:  f1 = 3.000 MHz   f2 = 3.192 MHz   T2 = 162.2 µs\n",
      "Qubit-A:  f1 = 3.000 MHz   f2 = 3.192 MHz   T2 = 55.5 µs\n",
      "Qubit-B:  f1 = 3.000 MHz   f2 = 3.192 MHz   T2 = 162.2 µs\n",
      "Qubit-A:  f1 = 3.000 MHz   f2 = 3.192 MHz   T2 = 80.7 µs\n",
      "Qubit-B:  f1 = 3.000 MHz   f2 = 3.192 MHz   T2 = 162.3 µs\n",
      "Qubit-A:  f1 = 3.000 MHz   f2 = 3.192 MHz   T2 = 55.3 µs\n",
      "Qubit-B:  f1 = 3.000 MHz   f2 = 3.192 MHz   T2 = 162.2 µs\n",
      "Qubit-A:  f1 = 3.000 MHz   f2 = 3.192 MHz   T2 = 32.6 µs\n",
      "Qubit-B:  f1 = 3.000 MHz   f2 = 3.192 MHz   T2 = 162.0 µs\n",
      "Qubit-A:  f1 = 3.000 MHz   f2 = 3.192 MHz   T2 = 52.2 µs\n",
      "Qubit-B:  f1 = 3.000 MHz   f2 = 3.192 MHz   T2 = 162.2 µs\n",
      "Qubit-A:  f1 = 3.000 MHz   f2 = 3.192 MHz   T2 = 44.5 µs\n",
      "Qubit-B:  f1 = 3.000 MHz   f2 = 3.192 MHz   T2 = 162.2 µs\n",
      "Qubit-A:  f1 = 3.000 MHz   f2 = 3.192 MHz   T2 = 53.0 µs\n",
      "Qubit-B:  f1 = 3.000 MHz   f2 = 3.192 MHz   T2 = 162.2 µs\n",
      "Qubit-A:  f1 = 3.000 MHz   f2 = 3.192 MHz   T2 = 34.2 µs\n",
      "Qubit-B:  f1 = 3.000 MHz   f2 = 3.192 MHz   T2 = 162.0 µs\n",
      "Qubit-A:  f1 = 3.000 MHz   f2 = 3.192 MHz   T2 = 53.6 µs\n",
      "Qubit-B:  f1 = 3.000 MHz   f2 = 3.192 MHz   T2 = 162.1 µs\n",
      "Qubit-A:  f1 = 3.000 MHz   f2 = 3.192 MHz   T2 = 52.1 µs\n",
      "Qubit-B:  f1 = 3.000 MHz   f2 = 3.192 MHz   T2 = 162.2 µs\n",
      "Qubit-A:  f1 = 3.000 MHz   f2 = 3.192 MHz   T2 = 56.0 µs\n",
      "Qubit-B:  f1 = 3.000 MHz   f2 = 3.192 MHz   T2 = 162.2 µs\n",
      "Qubit-A:  f1 = 3.000 MHz   f2 = 3.192 MHz   T2 = 36.4 µs\n",
      "Qubit-B:  f1 = 3.000 MHz   f2 = 3.192 MHz   T2 = 162.1 µs\n",
      "Qubit-A:  f1 = 3.000 MHz   f2 = 3.192 MHz   T2 = 34.8 µs\n",
      "Qubit-B:  f1 = 3.000 MHz   f2 = 3.192 MHz   T2 = 162.0 µs\n",
      "Qubit-A:  f1 = 3.000 MHz   f2 = 3.192 MHz   T2 = 64.0 µs\n",
      "Qubit-B:  f1 = 3.000 MHz   f2 = 3.192 MHz   T2 = 162.3 µs\n",
      "Qubit-A:  f1 = 3.000 MHz   f2 = 3.192 MHz   T2 = 66.2 µs\n",
      "Qubit-B:  f1 = 3.000 MHz   f2 = 3.192 MHz   T2 = 162.2 µs\n",
      "Qubit-A:  f1 = 3.000 MHz   f2 = 3.192 MHz   T2 = 66.9 µs\n",
      "Qubit-B:  f1 = 3.000 MHz   f2 = 3.192 MHz   T2 = 162.2 µs\n",
      "Qubit-A:  f1 = 3.000 MHz   f2 = 3.192 MHz   T2 = 42.6 µs\n",
      "Qubit-B:  f1 = 3.000 MHz   f2 = 3.192 MHz   T2 = 162.1 µs\n",
      "Qubit-A:  f1 = 3.000 MHz   f2 = 3.192 MHz   T2 = 42.9 µs\n",
      "Qubit-B:  f1 = 3.000 MHz   f2 = 3.192 MHz   T2 = 162.1 µs\n",
      "Qubit-A:  f1 = 3.000 MHz   f2 = 3.192 MHz   T2 = 29.5 µs\n",
      "Qubit-B:  f1 = 3.000 MHz   f2 = 3.192 MHz   T2 = 161.9 µs\n",
      "Qubit-A:  f1 = 3.000 MHz   f2 = 3.192 MHz   T2 = 63.4 µs\n",
      "Qubit-B:  f1 = 3.000 MHz   f2 = 3.192 MHz   T2 = 162.3 µs\n",
      "Qubit-A:  f1 = 3.000 MHz   f2 = 3.192 MHz   T2 = 64.2 µs\n",
      "Qubit-B:  f1 = 3.000 MHz   f2 = 3.192 MHz   T2 = 162.2 µs\n",
      "Qubit-A:  f1 = 3.000 MHz   f2 = 3.192 MHz   T2 = 50.7 µs\n",
      "Qubit-B:  f1 = 3.000 MHz   f2 = 3.192 MHz   T2 = 162.2 µs\n",
      "Qubit-A:  f1 = 3.000 MHz   f2 = 3.192 MHz   T2 = 42.7 µs\n",
      "Qubit-B:  f1 = 3.000 MHz   f2 = 3.192 MHz   T2 = 162.1 µs\n",
      "Qubit-A:  f1 = 3.000 MHz   f2 = 3.192 MHz   T2 = 62.9 µs\n",
      "Qubit-B:  f1 = 3.000 MHz   f2 = 3.192 MHz   T2 = 162.2 µs\n",
      "Qubit-A:  f1 = 3.000 MHz   f2 = 3.192 MHz   T2 = 70.0 µs\n",
      "Qubit-B:  f1 = 3.000 MHz   f2 = 3.192 MHz   T2 = 162.3 µs\n",
      "Qubit-A:  f1 = 3.000 MHz   f2 = 3.192 MHz   T2 = 65.9 µs\n",
      "Qubit-B:  f1 = 3.000 MHz   f2 = 3.192 MHz   T2 = 162.3 µs\n",
      "Qubit-A:  f1 = 3.000 MHz   f2 = 3.192 MHz   T2 = 59.9 µs\n",
      "Qubit-B:  f1 = 3.000 MHz   f2 = 3.192 MHz   T2 = 162.2 µs\n",
      "Qubit-A:  f1 = 3.000 MHz   f2 = 3.192 MHz   T2 = 47.5 µs\n",
      "Qubit-B:  f1 = 3.000 MHz   f2 = 3.192 MHz   T2 = 162.1 µs\n",
      "Qubit-A:  f1 = 3.000 MHz   f2 = 3.192 MHz   T2 = 38.3 µs\n",
      "Qubit-B:  f1 = 3.000 MHz   f2 = 3.192 MHz   T2 = 162.0 µs\n",
      "Qubit-A:  f1 = 3.000 MHz   f2 = 3.192 MHz   T2 = 31.3 µs\n",
      "Qubit-B:  f1 = 3.000 MHz   f2 = 3.192 MHz   T2 = 161.9 µs\n",
      "Qubit-A:  f1 = 3.000 MHz   f2 = 3.192 MHz   T2 = 53.5 µs\n",
      "Qubit-B:  f1 = 3.000 MHz   f2 = 3.192 MHz   T2 = 162.2 µs\n",
      "Qubit-A:  f1 = 3.000 MHz   f2 = 3.192 MHz   T2 = 78.0 µs\n",
      "Qubit-B:  f1 = 3.000 MHz   f2 = 3.192 MHz   T2 = 162.3 µs\n",
      "Qubit-A:  f1 = 3.000 MHz   f2 = 3.192 MHz   T2 = 15.5 µs\n",
      "Qubit-B:  f1 = 3.001 MHz   f2 = 3.192 MHz   T2 = 161.2 µs\n",
      "Qubit-A:  f1 = 3.000 MHz   f2 = 3.192 MHz   T2 = 31.4 µs\n",
      "Qubit-B:  f1 = 3.000 MHz   f2 = 3.192 MHz   T2 = 162.0 µs\n",
      "Qubit-A:  f1 = 3.000 MHz   f2 = 3.192 MHz   T2 = 60.5 µs\n",
      "Qubit-B:  f1 = 3.000 MHz   f2 = 3.192 MHz   T2 = 162.3 µs\n",
      "Qubit-A:  f1 = 3.000 MHz   f2 = 3.192 MHz   T2 = 58.8 µs\n",
      "Qubit-B:  f1 = 3.000 MHz   f2 = 3.192 MHz   T2 = 162.3 µs\n",
      "Qubit-A:  f1 = 3.000 MHz   f2 = 3.192 MHz   T2 = 73.9 µs\n",
      "Qubit-B:  f1 = 3.000 MHz   f2 = 3.192 MHz   T2 = 162.3 µs\n",
      "Qubit-A:  f1 = 3.000 MHz   f2 = 3.192 MHz   T2 = 63.0 µs\n",
      "Qubit-B:  f1 = 3.000 MHz   f2 = 3.192 MHz   T2 = 162.2 µs\n",
      "Qubit-A:  f1 = 3.000 MHz   f2 = 3.192 MHz   T2 = 43.6 µs\n",
      "Qubit-B:  f1 = 3.000 MHz   f2 = 3.192 MHz   T2 = 162.1 µs\n",
      "Qubit-A:  f1 = 3.000 MHz   f2 = 3.192 MHz   T2 = 26.9 µs\n",
      "Qubit-B:  f1 = 3.001 MHz   f2 = 3.192 MHz   T2 = 161.8 µs\n",
      "Qubit-A:  f1 = 3.000 MHz   f2 = 3.192 MHz   T2 = 43.7 µs\n",
      "Qubit-B:  f1 = 3.000 MHz   f2 = 3.192 MHz   T2 = 162.1 µs\n",
      "Qubit-A:  f1 = 3.000 MHz   f2 = 3.192 MHz   T2 = 46.5 µs\n",
      "Qubit-B:  f1 = 3.000 MHz   f2 = 3.192 MHz   T2 = 162.1 µs\n",
      "Qubit-A:  f1 = 3.000 MHz   f2 = 3.192 MHz   T2 = 54.5 µs\n",
      "Qubit-B:  f1 = 3.000 MHz   f2 = 3.192 MHz   T2 = 162.2 µs\n",
      "Qubit-A:  f1 = 3.000 MHz   f2 = 3.192 MHz   T2 = 41.0 µs\n",
      "Qubit-B:  f1 = 3.000 MHz   f2 = 3.192 MHz   T2 = 162.1 µs\n",
      "Qubit-A:  f1 = 3.000 MHz   f2 = 3.192 MHz   T2 = 55.1 µs\n",
      "Qubit-B:  f1 = 3.000 MHz   f2 = 3.192 MHz   T2 = 162.3 µs\n",
      "Qubit-A:  f1 = 3.000 MHz   f2 = 3.192 MHz   T2 = 41.6 µs\n",
      "Qubit-B:  f1 = 3.000 MHz   f2 = 3.192 MHz   T2 = 162.1 µs\n",
      "Qubit-A:  f1 = 3.000 MHz   f2 = 3.192 MHz   T2 = 42.3 µs\n",
      "Qubit-B:  f1 = 3.000 MHz   f2 = 3.192 MHz   T2 = 162.1 µs\n",
      "Qubit-A:  f1 = 3.000 MHz   f2 = 3.192 MHz   T2 = 73.8 µs\n",
      "Qubit-B:  f1 = 3.000 MHz   f2 = 3.192 MHz   T2 = 162.3 µs\n",
      "Qubit-A:  f1 = 3.000 MHz   f2 = 3.192 MHz   T2 = 65.0 µs\n",
      "Qubit-B:  f1 = 3.000 MHz   f2 = 3.192 MHz   T2 = 162.2 µs\n",
      "Qubit-A:  f1 = 3.000 MHz   f2 = 3.192 MHz   T2 = 72.5 µs\n",
      "Qubit-B:  f1 = 3.000 MHz   f2 = 3.192 MHz   T2 = 162.3 µs\n",
      "Qubit-A:  f1 = 3.000 MHz   f2 = 3.192 MHz   T2 = 49.1 µs\n",
      "Qubit-B:  f1 = 3.000 MHz   f2 = 3.192 MHz   T2 = 162.2 µs\n",
      "Qubit-A:  f1 = 3.000 MHz   f2 = 3.192 MHz   T2 = 42.6 µs\n",
      "Qubit-B:  f1 = 3.000 MHz   f2 = 3.192 MHz   T2 = 162.1 µs\n",
      "Qubit-A:  f1 = 3.000 MHz   f2 = 3.192 MHz   T2 = 50.2 µs\n",
      "Qubit-B:  f1 = 3.000 MHz   f2 = 3.192 MHz   T2 = 162.2 µs\n",
      "Qubit-A:  f1 = 3.000 MHz   f2 = 3.192 MHz   T2 = 22.1 µs\n",
      "Qubit-B:  f1 = 3.001 MHz   f2 = 3.192 MHz   T2 = 161.8 µs\n",
      "Qubit-A:  f1 = 3.000 MHz   f2 = 3.192 MHz   T2 = 63.0 µs\n",
      "Qubit-B:  f1 = 3.000 MHz   f2 = 3.192 MHz   T2 = 162.2 µs\n",
      "Qubit-A:  f1 = 3.000 MHz   f2 = 3.192 MHz   T2 = 37.4 µs\n",
      "Qubit-B:  f1 = 3.000 MHz   f2 = 3.192 MHz   T2 = 162.1 µs\n",
      "Qubit-A:  f1 = 3.000 MHz   f2 = 3.192 MHz   T2 = 16.5 µs\n",
      "Qubit-B:  f1 = 3.001 MHz   f2 = 3.192 MHz   T2 = 161.3 µs\n",
      "Qubit-A:  f1 = 3.000 MHz   f2 = 3.192 MHz   T2 = 30.7 µs\n",
      "Qubit-B:  f1 = 3.000 MHz   f2 = 3.192 MHz   T2 = 162.0 µs\n",
      "Qubit-A:  f1 = 3.000 MHz   f2 = 3.192 MHz   T2 = 20.9 µs\n",
      "Qubit-B:  f1 = 3.001 MHz   f2 = 3.192 MHz   T2 = 161.6 µs\n",
      "Qubit-A:  f1 = 3.000 MHz   f2 = 3.192 MHz   T2 = 33.9 µs\n",
      "Qubit-B:  f1 = 3.000 MHz   f2 = 3.192 MHz   T2 = 162.0 µs\n",
      "Qubit-A:  f1 = 3.000 MHz   f2 = 3.192 MHz   T2 = 50.5 µs\n",
      "Qubit-B:  f1 = 3.000 MHz   f2 = 3.192 MHz   T2 = 162.2 µs\n",
      "Qubit-A:  f1 = 3.000 MHz   f2 = 3.192 MHz   T2 = 51.3 µs\n",
      "Qubit-B:  f1 = 3.000 MHz   f2 = 3.192 MHz   T2 = 162.1 µs\n",
      "Qubit-A:  f1 = 3.000 MHz   f2 = 3.192 MHz   T2 = 53.5 µs\n",
      "Qubit-B:  f1 = 3.000 MHz   f2 = 3.192 MHz   T2 = 162.2 µs\n",
      "Qubit-A:  f1 = 3.000 MHz   f2 = 3.192 MHz   T2 = 26.4 µs\n",
      "Qubit-B:  f1 = 3.001 MHz   f2 = 3.192 MHz   T2 = 161.8 µs\n",
      "Qubit-A:  f1 = 3.000 MHz   f2 = 3.192 MHz   T2 = 35.3 µs\n",
      "Qubit-B:  f1 = 3.000 MHz   f2 = 3.192 MHz   T2 = 162.0 µs\n",
      "Qubit-A:  f1 = 3.000 MHz   f2 = 3.192 MHz   T2 = 37.9 µs\n",
      "Qubit-B:  f1 = 3.000 MHz   f2 = 3.192 MHz   T2 = 162.0 µs\n",
      "Qubit-A:  f1 = 3.000 MHz   f2 = 3.192 MHz   T2 = 44.6 µs\n",
      "Qubit-B:  f1 = 3.000 MHz   f2 = 3.192 MHz   T2 = 162.2 µs\n",
      "Qubit-A:  f1 = 3.000 MHz   f2 = 3.192 MHz   T2 = 53.6 µs\n",
      "Qubit-B:  f1 = 3.000 MHz   f2 = 3.192 MHz   T2 = 162.2 µs\n",
      "Qubit-A:  f1 = 3.000 MHz   f2 = 3.192 MHz   T2 = 54.0 µs\n",
      "Qubit-B:  f1 = 3.000 MHz   f2 = 3.192 MHz   T2 = 162.2 µs\n",
      "Qubit-A:  f1 = 3.000 MHz   f2 = 3.192 MHz   T2 = 65.2 µs\n",
      "Qubit-B:  f1 = 3.000 MHz   f2 = 3.192 MHz   T2 = 162.3 µs\n",
      "Qubit-A:  f1 = 3.000 MHz   f2 = 3.192 MHz   T2 = 43.4 µs\n",
      "Qubit-B:  f1 = 3.000 MHz   f2 = 3.192 MHz   T2 = 162.1 µs\n",
      "Qubit-A:  f1 = 3.000 MHz   f2 = 3.192 MHz   T2 = 52.8 µs\n",
      "Qubit-B:  f1 = 3.000 MHz   f2 = 3.192 MHz   T2 = 162.2 µs\n",
      "Qubit-A:  f1 = 3.000 MHz   f2 = 3.192 MHz   T2 = 43.3 µs\n",
      "Qubit-B:  f1 = 3.000 MHz   f2 = 3.192 MHz   T2 = 162.1 µs\n",
      "Qubit-A:  f1 = 3.000 MHz   f2 = 3.192 MHz   T2 = 55.1 µs\n",
      "Qubit-B:  f1 = 3.000 MHz   f2 = 3.192 MHz   T2 = 162.3 µs\n",
      "Qubit-A:  f1 = 3.000 MHz   f2 = 3.192 MHz   T2 = 46.3 µs\n",
      "Qubit-B:  f1 = 3.000 MHz   f2 = 3.192 MHz   T2 = 162.1 µs\n",
      "Qubit-A:  f1 = 3.000 MHz   f2 = 3.192 MHz   T2 = 45.1 µs\n",
      "Qubit-B:  f1 = 3.000 MHz   f2 = 3.192 MHz   T2 = 162.2 µs\n",
      "Qubit-A:  f1 = 3.000 MHz   f2 = 3.192 MHz   T2 = 70.2 µs\n",
      "Qubit-B:  f1 = 3.000 MHz   f2 = 3.192 MHz   T2 = 162.3 µs\n",
      "Qubit-A:  f1 = 3.000 MHz   f2 = 3.192 MHz   T2 = 59.6 µs\n",
      "Qubit-B:  f1 = 3.000 MHz   f2 = 3.192 MHz   T2 = 162.2 µs\n",
      "Qubit-A:  f1 = 3.000 MHz   f2 = 3.192 MHz   T2 = 42.7 µs\n",
      "Qubit-B:  f1 = 3.000 MHz   f2 = 3.192 MHz   T2 = 162.1 µs\n",
      "Qubit-A:  f1 = 3.000 MHz   f2 = 3.192 MHz   T2 = 51.4 µs\n",
      "Qubit-B:  f1 = 3.000 MHz   f2 = 3.192 MHz   T2 = 162.2 µs\n",
      "Qubit-A:  f1 = 3.000 MHz   f2 = 3.192 MHz   T2 = 54.4 µs\n",
      "Qubit-B:  f1 = 3.000 MHz   f2 = 3.192 MHz   T2 = 162.2 µs\n",
      "Qubit-A:  f1 = 3.000 MHz   f2 = 3.192 MHz   T2 = 62.6 µs\n",
      "Qubit-B:  f1 = 3.000 MHz   f2 = 3.192 MHz   T2 = 162.2 µs\n",
      "Qubit-A:  f1 = 3.000 MHz   f2 = 3.192 MHz   T2 = 56.8 µs\n",
      "Qubit-B:  f1 = 3.000 MHz   f2 = 3.192 MHz   T2 = 162.2 µs\n",
      "Qubit-A:  f1 = 3.000 MHz   f2 = 3.192 MHz   T2 = 47.0 µs\n",
      "Qubit-B:  f1 = 3.000 MHz   f2 = 3.192 MHz   T2 = 162.2 µs\n",
      "Qubit-A:  f1 = 3.000 MHz   f2 = 3.192 MHz   T2 = 62.1 µs\n",
      "Qubit-B:  f1 = 3.000 MHz   f2 = 3.192 MHz   T2 = 162.3 µs\n",
      "Qubit-A:  f1 = 3.000 MHz   f2 = 3.192 MHz   T2 = 71.9 µs\n",
      "Qubit-B:  f1 = 3.000 MHz   f2 = 3.192 MHz   T2 = 162.3 µs\n",
      "Qubit-A:  f1 = 3.000 MHz   f2 = 3.192 MHz   T2 = 53.8 µs\n",
      "Qubit-B:  f1 = 3.000 MHz   f2 = 3.192 MHz   T2 = 162.2 µs\n",
      "Qubit-A:  f1 = 3.000 MHz   f2 = 3.192 MHz   T2 = 26.0 µs\n",
      "Qubit-B:  f1 = 3.001 MHz   f2 = 3.192 MHz   T2 = 161.9 µs\n",
      "Qubit-A:  f1 = 3.000 MHz   f2 = 3.192 MHz   T2 = 34.4 µs\n",
      "Qubit-B:  f1 = 3.000 MHz   f2 = 3.192 MHz   T2 = 162.0 µs\n",
      "Qubit-A:  f1 = 3.000 MHz   f2 = 3.192 MHz   T2 = 22.9 µs\n",
      "Qubit-B:  f1 = 3.001 MHz   f2 = 3.192 MHz   T2 = 161.7 µs\n",
      "Qubit-A:  f1 = 3.000 MHz   f2 = 3.192 MHz   T2 = 46.7 µs\n",
      "Qubit-B:  f1 = 3.000 MHz   f2 = 3.192 MHz   T2 = 162.1 µs\n",
      "Qubit-A:  f1 = 3.000 MHz   f2 = 3.192 MHz   T2 = 73.5 µs\n",
      "Qubit-B:  f1 = 3.000 MHz   f2 = 3.192 MHz   T2 = 162.3 µs\n",
      "Qubit-A:  f1 = 3.000 MHz   f2 = 3.192 MHz   T2 = 40.4 µs\n",
      "Qubit-B:  f1 = 3.000 MHz   f2 = 3.192 MHz   T2 = 162.2 µs\n",
      "Qubit-A:  f1 = 3.000 MHz   f2 = 3.192 MHz   T2 = 52.0 µs\n",
      "Qubit-B:  f1 = 3.000 MHz   f2 = 3.192 MHz   T2 = 162.2 µs\n",
      "Qubit-A:  f1 = 3.000 MHz   f2 = 3.192 MHz   T2 = 70.0 µs\n",
      "Qubit-B:  f1 = 3.000 MHz   f2 = 3.192 MHz   T2 = 162.3 µs\n",
      "Qubit-A:  f1 = 3.000 MHz   f2 = 3.192 MHz   T2 = 28.7 µs\n",
      "Qubit-B:  f1 = 3.000 MHz   f2 = 3.192 MHz   T2 = 161.9 µs\n",
      "Qubit-A:  f1 = 3.000 MHz   f2 = 3.192 MHz   T2 = 76.4 µs\n",
      "Qubit-B:  f1 = 3.000 MHz   f2 = 3.192 MHz   T2 = 162.3 µs\n",
      "Qubit-A:  f1 = 3.000 MHz   f2 = 3.192 MHz   T2 = 37.7 µs\n",
      "Qubit-B:  f1 = 3.000 MHz   f2 = 3.192 MHz   T2 = 162.1 µs\n",
      "Qubit-A:  f1 = 3.000 MHz   f2 = 3.192 MHz   T2 = 18.2 µs\n",
      "Qubit-B:  f1 = 3.001 MHz   f2 = 3.192 MHz   T2 = 161.4 µs\n",
      "Qubit-A:  f1 = 3.000 MHz   f2 = 3.192 MHz   T2 = 26.7 µs\n",
      "Qubit-B:  f1 = 3.001 MHz   f2 = 3.192 MHz   T2 = 161.8 µs\n",
      "Qubit-A:  f1 = 3.000 MHz   f2 = 3.192 MHz   T2 = 33.5 µs\n",
      "Qubit-B:  f1 = 3.000 MHz   f2 = 3.192 MHz   T2 = 162.0 µs\n",
      "Qubit-A:  f1 = 3.000 MHz   f2 = 3.192 MHz   T2 = 45.7 µs\n",
      "Qubit-B:  f1 = 3.000 MHz   f2 = 3.192 MHz   T2 = 162.2 µs\n",
      "Qubit-A:  f1 = 3.000 MHz   f2 = 3.192 MHz   T2 = 58.3 µs\n",
      "Qubit-B:  f1 = 3.000 MHz   f2 = 3.192 MHz   T2 = 162.2 µs\n",
      "Qubit-A:  f1 = 3.000 MHz   f2 = 3.192 MHz   T2 = 69.2 µs\n",
      "Qubit-B:  f1 = 3.000 MHz   f2 = 3.192 MHz   T2 = 162.3 µs\n",
      "Qubit-A:  f1 = 3.000 MHz   f2 = 3.192 MHz   T2 = 67.4 µs\n",
      "Qubit-B:  f1 = 3.000 MHz   f2 = 3.192 MHz   T2 = 162.2 µs\n",
      "Qubit-A:  f1 = 3.000 MHz   f2 = 3.192 MHz   T2 = 39.1 µs\n",
      "Qubit-B:  f1 = 3.000 MHz   f2 = 3.192 MHz   T2 = 162.2 µs\n",
      "Qubit-A:  f1 = 3.000 MHz   f2 = 3.192 MHz   T2 = 66.9 µs\n",
      "Qubit-B:  f1 = 3.000 MHz   f2 = 3.192 MHz   T2 = 162.3 µs\n",
      "Qubit-A:  f1 = 3.000 MHz   f2 = 3.192 MHz   T2 = 34.0 µs\n",
      "Qubit-B:  f1 = 3.000 MHz   f2 = 3.192 MHz   T2 = 162.0 µs\n",
      "Qubit-A:  f1 = 3.000 MHz   f2 = 3.192 MHz   T2 = 47.8 µs\n",
      "Qubit-B:  f1 = 3.000 MHz   f2 = 3.192 MHz   T2 = 162.1 µs\n",
      "Qubit-A:  f1 = 3.000 MHz   f2 = 3.192 MHz   T2 = 58.2 µs\n",
      "Qubit-B:  f1 = 3.000 MHz   f2 = 3.192 MHz   T2 = 162.2 µs\n",
      "Qubit-A:  f1 = 3.000 MHz   f2 = 3.192 MHz   T2 = 75.4 µs\n",
      "Qubit-B:  f1 = 3.000 MHz   f2 = 3.192 MHz   T2 = 162.3 µs\n",
      "Qubit-A:  f1 = 3.000 MHz   f2 = 3.192 MHz   T2 = 18.9 µs\n",
      "Qubit-B:  f1 = 3.001 MHz   f2 = 3.192 MHz   T2 = 161.5 µs\n",
      "Qubit-A:  f1 = 3.000 MHz   f2 = 3.192 MHz   T2 = 55.5 µs\n",
      "Qubit-B:  f1 = 3.000 MHz   f2 = 3.192 MHz   T2 = 162.2 µs\n",
      "Qubit-A:  f1 = 3.000 MHz   f2 = 3.192 MHz   T2 = 39.5 µs\n",
      "Qubit-B:  f1 = 3.000 MHz   f2 = 3.192 MHz   T2 = 162.0 µs\n",
      "Qubit-A:  f1 = 3.000 MHz   f2 = 3.192 MHz   T2 = 33.2 µs\n",
      "Qubit-B:  f1 = 3.000 MHz   f2 = 3.192 MHz   T2 = 162.0 µs\n",
      "Qubit-A:  f1 = 3.000 MHz   f2 = 3.192 MHz   T2 = 48.5 µs\n",
      "Qubit-B:  f1 = 3.000 MHz   f2 = 3.192 MHz   T2 = 162.1 µs\n",
      "Qubit-A:  f1 = 3.000 MHz   f2 = 3.192 MHz   T2 = 26.5 µs\n",
      "Qubit-B:  f1 = 3.001 MHz   f2 = 3.192 MHz   T2 = 161.8 µs\n",
      "Qubit-A:  f1 = 3.000 MHz   f2 = 3.192 MHz   T2 = 29.7 µs\n",
      "Qubit-B:  f1 = 3.000 MHz   f2 = 3.192 MHz   T2 = 161.9 µs\n",
      "Qubit-A:  f1 = 3.000 MHz   f2 = 3.192 MHz   T2 = 43.3 µs\n",
      "Qubit-B:  f1 = 3.000 MHz   f2 = 3.192 MHz   T2 = 162.1 µs\n",
      "Qubit-A:  f1 = 3.000 MHz   f2 = 3.192 MHz   T2 = 26.2 µs\n",
      "Qubit-B:  f1 = 3.001 MHz   f2 = 3.192 MHz   T2 = 161.8 µs\n",
      "Qubit-A:  f1 = 3.000 MHz   f2 = 3.192 MHz   T2 = 70.4 µs\n",
      "Qubit-B:  f1 = 3.000 MHz   f2 = 3.192 MHz   T2 = 162.3 µs\n",
      "Qubit-A:  f1 = 3.000 MHz   f2 = 3.192 MHz   T2 = 29.0 µs\n",
      "Qubit-B:  f1 = 3.000 MHz   f2 = 3.192 MHz   T2 = 162.0 µs\n",
      "Qubit-A:  f1 = 3.000 MHz   f2 = 3.192 MHz   T2 = 41.4 µs\n",
      "Qubit-B:  f1 = 3.000 MHz   f2 = 3.192 MHz   T2 = 162.1 µs\n",
      "Qubit-A:  f1 = 3.000 MHz   f2 = 3.192 MHz   T2 = 64.1 µs\n",
      "Qubit-B:  f1 = 3.000 MHz   f2 = 3.192 MHz   T2 = 162.2 µs\n",
      "Qubit-A:  f1 = 3.000 MHz   f2 = 3.192 MHz   T2 = 61.9 µs\n",
      "Qubit-B:  f1 = 3.000 MHz   f2 = 3.192 MHz   T2 = 162.3 µs\n",
      "Qubit-A:  f1 = 3.000 MHz   f2 = 3.192 MHz   T2 = 44.9 µs\n",
      "Qubit-B:  f1 = 3.000 MHz   f2 = 3.192 MHz   T2 = 162.1 µs\n",
      "Qubit-A:  f1 = 3.000 MHz   f2 = 3.192 MHz   T2 = 77.4 µs\n",
      "Qubit-B:  f1 = 3.000 MHz   f2 = 3.192 MHz   T2 = 162.3 µs\n",
      "Qubit-A:  f1 = 3.000 MHz   f2 = 3.192 MHz   T2 = 42.5 µs\n",
      "Qubit-B:  f1 = 3.000 MHz   f2 = 3.192 MHz   T2 = 162.1 µs\n",
      "Qubit-A:  f1 = 3.000 MHz   f2 = 3.192 MHz   T2 = 53.4 µs\n",
      "Qubit-B:  f1 = 3.000 MHz   f2 = 3.192 MHz   T2 = 162.2 µs\n",
      "Qubit-A:  f1 = 3.000 MHz   f2 = 3.192 MHz   T2 = 43.4 µs\n",
      "Qubit-B:  f1 = 3.000 MHz   f2 = 3.192 MHz   T2 = 162.1 µs\n",
      "Qubit-A:  f1 = 3.000 MHz   f2 = 3.192 MHz   T2 = 42.5 µs\n",
      "Qubit-B:  f1 = 3.000 MHz   f2 = 3.192 MHz   T2 = 162.1 µs\n",
      "Qubit-A:  f1 = 3.000 MHz   f2 = 3.192 MHz   T2 = 52.1 µs\n",
      "Qubit-B:  f1 = 3.000 MHz   f2 = 3.192 MHz   T2 = 162.1 µs\n",
      "Qubit-A:  f1 = 3.000 MHz   f2 = 3.192 MHz   T2 = 53.6 µs\n",
      "Qubit-B:  f1 = 3.000 MHz   f2 = 3.192 MHz   T2 = 162.1 µs\n",
      "Qubit-A:  f1 = 3.000 MHz   f2 = 3.192 MHz   T2 = 66.4 µs\n",
      "Qubit-B:  f1 = 3.000 MHz   f2 = 3.192 MHz   T2 = 162.2 µs\n",
      "Qubit-A:  f1 = 3.000 MHz   f2 = 3.192 MHz   T2 = 39.1 µs\n",
      "Qubit-B:  f1 = 3.000 MHz   f2 = 3.192 MHz   T2 = 162.1 µs\n",
      "Qubit-A:  f1 = 3.000 MHz   f2 = 3.192 MHz   T2 = 67.9 µs\n",
      "Qubit-B:  f1 = 3.000 MHz   f2 = 3.192 MHz   T2 = 162.3 µs\n",
      "Qubit-A:  f1 = 3.000 MHz   f2 = 3.192 MHz   T2 = 32.7 µs\n",
      "Qubit-B:  f1 = 3.000 MHz   f2 = 3.192 MHz   T2 = 162.0 µs\n",
      "Qubit-A:  f1 = 3.000 MHz   f2 = 3.192 MHz   T2 = 144.2 µs\n",
      "Qubit-B:  f1 = 3.000 MHz   f2 = 3.192 MHz   T2 = 162.4 µs\n",
      "Qubit-A:  f1 = 3.000 MHz   f2 = 3.192 MHz   T2 = 154.9 µs\n",
      "Qubit-B:  f1 = 3.000 MHz   f2 = 3.192 MHz   T2 = 162.4 µs\n",
      "Qubit-A:  f1 = 3.000 MHz   f2 = 3.192 MHz   T2 = 159.7 µs\n",
      "Qubit-B:  f1 = 3.000 MHz   f2 = 3.192 MHz   T2 = 162.4 µs\n",
      "Qubit-A:  f1 = 3.000 MHz   f2 = 3.192 MHz   T2 = 165.7 µs\n",
      "Qubit-B:  f1 = 3.000 MHz   f2 = 3.192 MHz   T2 = 162.4 µs\n",
      "Qubit-A:  f1 = 3.000 MHz   f2 = 3.192 MHz   T2 = 152.5 µs\n",
      "Qubit-B:  f1 = 3.000 MHz   f2 = 3.192 MHz   T2 = 162.4 µs\n",
      "Qubit-A:  f1 = 3.000 MHz   f2 = 3.192 MHz   T2 = 168.5 µs\n",
      "Qubit-B:  f1 = 3.000 MHz   f2 = 3.192 MHz   T2 = 162.4 µs\n",
      "Qubit-A:  f1 = 3.000 MHz   f2 = 3.192 MHz   T2 = 152.3 µs\n",
      "Qubit-B:  f1 = 3.000 MHz   f2 = 3.192 MHz   T2 = 162.4 µs\n",
      "Qubit-A:  f1 = 3.000 MHz   f2 = 3.192 MHz   T2 = 177.7 µs\n",
      "Qubit-B:  f1 = 3.000 MHz   f2 = 3.192 MHz   T2 = 162.4 µs\n",
      "Qubit-A:  f1 = 3.000 MHz   f2 = 3.192 MHz   T2 = 192.4 µs\n",
      "Qubit-B:  f1 = 3.000 MHz   f2 = 3.192 MHz   T2 = 162.4 µs\n",
      "Qubit-A:  f1 = 3.000 MHz   f2 = 3.192 MHz   T2 = 157.1 µs\n",
      "Qubit-B:  f1 = 3.000 MHz   f2 = 3.192 MHz   T2 = 162.4 µs\n",
      "Qubit-A:  f1 = 3.000 MHz   f2 = 3.192 MHz   T2 = 149.2 µs\n",
      "Qubit-B:  f1 = 3.000 MHz   f2 = 3.192 MHz   T2 = 162.4 µs\n",
      "Qubit-A:  f1 = 3.000 MHz   f2 = 3.192 MHz   T2 = 177.6 µs\n",
      "Qubit-B:  f1 = 3.000 MHz   f2 = 3.192 MHz   T2 = 162.4 µs\n",
      "Qubit-A:  f1 = 3.000 MHz   f2 = 3.192 MHz   T2 = 170.6 µs\n",
      "Qubit-B:  f1 = 3.000 MHz   f2 = 3.192 MHz   T2 = 162.5 µs\n",
      "Qubit-A:  f1 = 3.000 MHz   f2 = 3.192 MHz   T2 = 174.6 µs\n",
      "Qubit-B:  f1 = 3.000 MHz   f2 = 3.192 MHz   T2 = 162.4 µs\n",
      "Qubit-A:  f1 = 3.000 MHz   f2 = 3.192 MHz   T2 = 172.2 µs\n",
      "Qubit-B:  f1 = 3.000 MHz   f2 = 3.192 MHz   T2 = 162.4 µs\n",
      "Qubit-A:  f1 = 3.000 MHz   f2 = 3.192 MHz   T2 = 158.4 µs\n",
      "Qubit-B:  f1 = 3.000 MHz   f2 = 3.192 MHz   T2 = 162.4 µs\n",
      "Qubit-A:  f1 = 3.000 MHz   f2 = 3.192 MHz   T2 = 166.8 µs\n",
      "Qubit-B:  f1 = 3.000 MHz   f2 = 3.192 MHz   T2 = 162.4 µs\n",
      "Qubit-A:  f1 = 3.000 MHz   f2 = 3.192 MHz   T2 = 160.5 µs\n",
      "Qubit-B:  f1 = 3.000 MHz   f2 = 3.192 MHz   T2 = 162.4 µs\n",
      "Qubit-A:  f1 = 3.000 MHz   f2 = 3.192 MHz   T2 = 149.8 µs\n",
      "Qubit-B:  f1 = 3.000 MHz   f2 = 3.192 MHz   T2 = 162.4 µs\n",
      "Qubit-A:  f1 = 3.000 MHz   f2 = 3.192 MHz   T2 = 151.8 µs\n",
      "Qubit-B:  f1 = 3.000 MHz   f2 = 3.192 MHz   T2 = 162.4 µs\n",
      "Qubit-A:  f1 = 3.000 MHz   f2 = 3.192 MHz   T2 = 180.2 µs\n",
      "Qubit-B:  f1 = 3.000 MHz   f2 = 3.192 MHz   T2 = 162.4 µs\n",
      "Qubit-A:  f1 = 3.000 MHz   f2 = 3.192 MHz   T2 = 167.1 µs\n",
      "Qubit-B:  f1 = 3.000 MHz   f2 = 3.192 MHz   T2 = 162.5 µs\n",
      "Qubit-A:  f1 = 3.000 MHz   f2 = 3.192 MHz   T2 = 182.6 µs\n",
      "Qubit-B:  f1 = 3.000 MHz   f2 = 3.192 MHz   T2 = 162.4 µs\n",
      "Qubit-A:  f1 = 3.000 MHz   f2 = 3.192 MHz   T2 = 158.5 µs\n",
      "Qubit-B:  f1 = 3.000 MHz   f2 = 3.192 MHz   T2 = 162.4 µs\n",
      "Qubit-A:  f1 = 3.000 MHz   f2 = 3.192 MHz   T2 = 160.7 µs\n",
      "Qubit-B:  f1 = 3.000 MHz   f2 = 3.192 MHz   T2 = 162.4 µs\n",
      "Qubit-A:  f1 = 3.000 MHz   f2 = 3.192 MHz   T2 = 153.4 µs\n",
      "Qubit-B:  f1 = 3.000 MHz   f2 = 3.192 MHz   T2 = 162.4 µs\n",
      "Qubit-A:  f1 = 3.000 MHz   f2 = 3.192 MHz   T2 = 155.8 µs\n",
      "Qubit-B:  f1 = 3.000 MHz   f2 = 3.192 MHz   T2 = 162.4 µs\n",
      "Qubit-A:  f1 = 3.000 MHz   f2 = 3.192 MHz   T2 = 160.2 µs\n",
      "Qubit-B:  f1 = 3.000 MHz   f2 = 3.192 MHz   T2 = 162.4 µs\n",
      "Qubit-A:  f1 = 3.000 MHz   f2 = 3.192 MHz   T2 = 157.7 µs\n",
      "Qubit-B:  f1 = 3.000 MHz   f2 = 3.192 MHz   T2 = 162.4 µs\n",
      "Qubit-A:  f1 = 3.000 MHz   f2 = 3.192 MHz   T2 = 156.7 µs\n",
      "Qubit-B:  f1 = 3.000 MHz   f2 = 3.192 MHz   T2 = 162.4 µs\n",
      "Qubit-A:  f1 = 3.000 MHz   f2 = 3.192 MHz   T2 = 186.7 µs\n",
      "Qubit-B:  f1 = 3.000 MHz   f2 = 3.192 MHz   T2 = 162.4 µs\n",
      "Qubit-A:  f1 = 3.000 MHz   f2 = 3.192 MHz   T2 = 178.0 µs\n",
      "Qubit-B:  f1 = 3.000 MHz   f2 = 3.192 MHz   T2 = 162.4 µs\n",
      "Qubit-A:  f1 = 3.000 MHz   f2 = 3.192 MHz   T2 = 168.6 µs\n",
      "Qubit-B:  f1 = 3.000 MHz   f2 = 3.192 MHz   T2 = 162.4 µs\n",
      "Qubit-A:  f1 = 3.000 MHz   f2 = 3.192 MHz   T2 = 157.5 µs\n",
      "Qubit-B:  f1 = 3.000 MHz   f2 = 3.192 MHz   T2 = 162.4 µs\n",
      "Qubit-A:  f1 = 3.000 MHz   f2 = 3.192 MHz   T2 = 146.2 µs\n",
      "Qubit-B:  f1 = 3.000 MHz   f2 = 3.192 MHz   T2 = 162.4 µs\n",
      "Qubit-A:  f1 = 3.000 MHz   f2 = 3.192 MHz   T2 = 167.1 µs\n",
      "Qubit-B:  f1 = 3.000 MHz   f2 = 3.192 MHz   T2 = 162.4 µs\n",
      "Qubit-A:  f1 = 3.000 MHz   f2 = 3.192 MHz   T2 = 167.2 µs\n",
      "Qubit-B:  f1 = 3.000 MHz   f2 = 3.192 MHz   T2 = 162.4 µs\n",
      "Qubit-A:  f1 = 3.000 MHz   f2 = 3.192 MHz   T2 = 168.9 µs\n",
      "Qubit-B:  f1 = 3.000 MHz   f2 = 3.192 MHz   T2 = 162.4 µs\n",
      "Qubit-A:  f1 = 3.000 MHz   f2 = 3.192 MHz   T2 = 146.7 µs\n",
      "Qubit-B:  f1 = 3.000 MHz   f2 = 3.192 MHz   T2 = 162.4 µs\n",
      "Qubit-A:  f1 = 3.000 MHz   f2 = 3.192 MHz   T2 = 178.2 µs\n",
      "Qubit-B:  f1 = 3.000 MHz   f2 = 3.192 MHz   T2 = 162.4 µs\n",
      "Qubit-A:  f1 = 3.000 MHz   f2 = 3.192 MHz   T2 = 184.9 µs\n",
      "Qubit-B:  f1 = 3.000 MHz   f2 = 3.192 MHz   T2 = 162.4 µs\n",
      "Qubit-A:  f1 = 3.000 MHz   f2 = 3.192 MHz   T2 = 153.6 µs\n",
      "Qubit-B:  f1 = 3.000 MHz   f2 = 3.192 MHz   T2 = 162.5 µs\n",
      "Qubit-A:  f1 = 3.000 MHz   f2 = 3.192 MHz   T2 = 143.0 µs\n",
      "Qubit-B:  f1 = 3.000 MHz   f2 = 3.192 MHz   T2 = 162.4 µs\n",
      "Qubit-A:  f1 = 3.000 MHz   f2 = 3.192 MHz   T2 = 159.3 µs\n",
      "Qubit-B:  f1 = 3.000 MHz   f2 = 3.192 MHz   T2 = 162.4 µs\n",
      "Qubit-A:  f1 = 3.000 MHz   f2 = 3.192 MHz   T2 = 146.9 µs\n",
      "Qubit-B:  f1 = 3.000 MHz   f2 = 3.192 MHz   T2 = 162.4 µs\n",
      "Qubit-A:  f1 = 3.000 MHz   f2 = 3.192 MHz   T2 = 151.1 µs\n",
      "Qubit-B:  f1 = 3.000 MHz   f2 = 3.192 MHz   T2 = 162.4 µs\n",
      "Qubit-A:  f1 = 3.000 MHz   f2 = 3.192 MHz   T2 = 166.7 µs\n",
      "Qubit-B:  f1 = 3.000 MHz   f2 = 3.192 MHz   T2 = 162.4 µs\n",
      "Qubit-A:  f1 = 3.000 MHz   f2 = 3.192 MHz   T2 = 156.6 µs\n",
      "Qubit-B:  f1 = 3.000 MHz   f2 = 3.192 MHz   T2 = 162.4 µs\n",
      "Qubit-A:  f1 = 3.000 MHz   f2 = 3.192 MHz   T2 = 160.1 µs\n",
      "Qubit-B:  f1 = 3.000 MHz   f2 = 3.192 MHz   T2 = 162.4 µs\n",
      "Qubit-A:  f1 = 3.000 MHz   f2 = 3.192 MHz   T2 = 170.4 µs\n",
      "Qubit-B:  f1 = 3.000 MHz   f2 = 3.192 MHz   T2 = 162.4 µs\n",
      "Qubit-A:  f1 = 3.000 MHz   f2 = 3.192 MHz   T2 = 168.5 µs\n",
      "Qubit-B:  f1 = 3.000 MHz   f2 = 3.192 MHz   T2 = 162.4 µs\n",
      "Qubit-A:  f1 = 3.000 MHz   f2 = 3.192 MHz   T2 = 187.1 µs\n",
      "Qubit-B:  f1 = 3.000 MHz   f2 = 3.192 MHz   T2 = 162.4 µs\n",
      "Qubit-A:  f1 = 3.000 MHz   f2 = 3.192 MHz   T2 = 172.8 µs\n",
      "Qubit-B:  f1 = 3.000 MHz   f2 = 3.192 MHz   T2 = 162.4 µs\n",
      "Qubit-A:  f1 = 3.000 MHz   f2 = 3.192 MHz   T2 = 159.6 µs\n",
      "Qubit-B:  f1 = 3.000 MHz   f2 = 3.192 MHz   T2 = 162.4 µs\n",
      "Qubit-A:  f1 = 3.000 MHz   f2 = 3.192 MHz   T2 = 191.2 µs\n",
      "Qubit-B:  f1 = 3.000 MHz   f2 = 3.192 MHz   T2 = 162.4 µs\n",
      "Qubit-A:  f1 = 3.000 MHz   f2 = 3.192 MHz   T2 = 173.9 µs\n",
      "Qubit-B:  f1 = 3.000 MHz   f2 = 3.192 MHz   T2 = 162.4 µs\n",
      "Qubit-A:  f1 = 3.000 MHz   f2 = 3.192 MHz   T2 = 163.8 µs\n",
      "Qubit-B:  f1 = 3.000 MHz   f2 = 3.192 MHz   T2 = 162.4 µs\n",
      "Qubit-A:  f1 = 3.000 MHz   f2 = 3.192 MHz   T2 = 143.2 µs\n",
      "Qubit-B:  f1 = 3.000 MHz   f2 = 3.192 MHz   T2 = 162.4 µs\n",
      "Qubit-A:  f1 = 3.000 MHz   f2 = 3.192 MHz   T2 = 168.5 µs\n",
      "Qubit-B:  f1 = 3.000 MHz   f2 = 3.192 MHz   T2 = 162.4 µs\n",
      "Qubit-A:  f1 = 3.000 MHz   f2 = 3.192 MHz   T2 = 152.2 µs\n",
      "Qubit-B:  f1 = 3.000 MHz   f2 = 3.192 MHz   T2 = 162.4 µs\n",
      "Qubit-A:  f1 = 3.000 MHz   f2 = 3.192 MHz   T2 = 153.0 µs\n",
      "Qubit-B:  f1 = 3.000 MHz   f2 = 3.192 MHz   T2 = 162.4 µs\n",
      "Qubit-A:  f1 = 3.000 MHz   f2 = 3.192 MHz   T2 = 162.4 µs\n",
      "Qubit-B:  f1 = 3.000 MHz   f2 = 3.192 MHz   T2 = 162.4 µs\n",
      "Qubit-A:  f1 = 3.000 MHz   f2 = 3.192 MHz   T2 = 184.2 µs\n",
      "Qubit-B:  f1 = 3.000 MHz   f2 = 3.192 MHz   T2 = 162.4 µs\n",
      "Qubit-A:  f1 = 3.000 MHz   f2 = 3.192 MHz   T2 = 163.9 µs\n",
      "Qubit-B:  f1 = 3.000 MHz   f2 = 3.192 MHz   T2 = 162.4 µs\n",
      "Qubit-A:  f1 = 3.000 MHz   f2 = 3.192 MHz   T2 = 156.4 µs\n",
      "Qubit-B:  f1 = 3.000 MHz   f2 = 3.192 MHz   T2 = 162.4 µs\n",
      "Qubit-A:  f1 = 3.000 MHz   f2 = 3.192 MHz   T2 = 177.9 µs\n",
      "Qubit-B:  f1 = 3.000 MHz   f2 = 3.192 MHz   T2 = 162.4 µs\n",
      "Qubit-A:  f1 = 3.000 MHz   f2 = 3.192 MHz   T2 = 162.3 µs\n",
      "Qubit-B:  f1 = 3.000 MHz   f2 = 3.192 MHz   T2 = 162.5 µs\n",
      "Qubit-A:  f1 = 3.000 MHz   f2 = 3.192 MHz   T2 = 183.0 µs\n",
      "Qubit-B:  f1 = 3.000 MHz   f2 = 3.192 MHz   T2 = 162.4 µs\n",
      "Qubit-A:  f1 = 3.000 MHz   f2 = 3.192 MHz   T2 = 170.7 µs\n",
      "Qubit-B:  f1 = 3.000 MHz   f2 = 3.192 MHz   T2 = 162.4 µs\n",
      "Qubit-A:  f1 = 3.000 MHz   f2 = 3.192 MHz   T2 = 177.1 µs\n",
      "Qubit-B:  f1 = 3.000 MHz   f2 = 3.192 MHz   T2 = 162.4 µs\n",
      "Qubit-A:  f1 = 3.000 MHz   f2 = 3.192 MHz   T2 = 170.7 µs\n",
      "Qubit-B:  f1 = 3.000 MHz   f2 = 3.192 MHz   T2 = 162.4 µs\n",
      "Qubit-A:  f1 = 3.000 MHz   f2 = 3.192 MHz   T2 = 168.0 µs\n",
      "Qubit-B:  f1 = 3.000 MHz   f2 = 3.192 MHz   T2 = 162.4 µs\n",
      "Qubit-A:  f1 = 3.000 MHz   f2 = 3.192 MHz   T2 = 182.1 µs\n",
      "Qubit-B:  f1 = 3.000 MHz   f2 = 3.192 MHz   T2 = 162.4 µs\n",
      "Qubit-A:  f1 = 3.000 MHz   f2 = 3.192 MHz   T2 = 178.9 µs\n",
      "Qubit-B:  f1 = 3.000 MHz   f2 = 3.192 MHz   T2 = 162.4 µs\n",
      "Qubit-A:  f1 = 3.000 MHz   f2 = 3.192 MHz   T2 = 152.9 µs\n",
      "Qubit-B:  f1 = 3.000 MHz   f2 = 3.192 MHz   T2 = 162.4 µs\n",
      "Qubit-A:  f1 = 3.000 MHz   f2 = 3.192 MHz   T2 = 171.2 µs\n",
      "Qubit-B:  f1 = 3.000 MHz   f2 = 3.192 MHz   T2 = 162.4 µs\n",
      "Qubit-A:  f1 = 3.000 MHz   f2 = 3.192 MHz   T2 = 166.3 µs\n",
      "Qubit-B:  f1 = 3.000 MHz   f2 = 3.192 MHz   T2 = 162.4 µs\n",
      "Qubit-A:  f1 = 3.000 MHz   f2 = 3.192 MHz   T2 = 161.7 µs\n",
      "Qubit-B:  f1 = 3.000 MHz   f2 = 3.192 MHz   T2 = 162.4 µs\n",
      "Qubit-A:  f1 = 3.000 MHz   f2 = 3.192 MHz   T2 = 183.2 µs\n",
      "Qubit-B:  f1 = 3.000 MHz   f2 = 3.192 MHz   T2 = 162.5 µs\n",
      "Qubit-A:  f1 = 3.000 MHz   f2 = 3.192 MHz   T2 = 151.5 µs\n",
      "Qubit-B:  f1 = 3.000 MHz   f2 = 3.192 MHz   T2 = 162.4 µs\n",
      "Qubit-A:  f1 = 3.000 MHz   f2 = 3.192 MHz   T2 = 175.6 µs\n",
      "Qubit-B:  f1 = 3.000 MHz   f2 = 3.192 MHz   T2 = 162.4 µs\n",
      "Qubit-A:  f1 = 3.000 MHz   f2 = 3.192 MHz   T2 = 181.9 µs\n",
      "Qubit-B:  f1 = 3.000 MHz   f2 = 3.192 MHz   T2 = 162.4 µs\n",
      "Qubit-A:  f1 = 3.000 MHz   f2 = 3.192 MHz   T2 = 164.6 µs\n",
      "Qubit-B:  f1 = 3.000 MHz   f2 = 3.192 MHz   T2 = 162.4 µs\n",
      "Qubit-A:  f1 = 3.000 MHz   f2 = 3.192 MHz   T2 = 158.3 µs\n",
      "Qubit-B:  f1 = 3.000 MHz   f2 = 3.192 MHz   T2 = 162.4 µs\n",
      "Qubit-A:  f1 = 3.000 MHz   f2 = 3.192 MHz   T2 = 164.3 µs\n",
      "Qubit-B:  f1 = 3.000 MHz   f2 = 3.192 MHz   T2 = 162.4 µs\n",
      "Qubit-A:  f1 = 3.000 MHz   f2 = 3.192 MHz   T2 = 160.8 µs\n",
      "Qubit-B:  f1 = 3.000 MHz   f2 = 3.192 MHz   T2 = 162.4 µs\n",
      "Qubit-A:  f1 = 3.000 MHz   f2 = 3.192 MHz   T2 = 156.4 µs\n",
      "Qubit-B:  f1 = 3.000 MHz   f2 = 3.192 MHz   T2 = 162.4 µs\n",
      "Qubit-A:  f1 = 3.000 MHz   f2 = 3.192 MHz   T2 = 197.5 µs\n",
      "Qubit-B:  f1 = 3.000 MHz   f2 = 3.192 MHz   T2 = 162.4 µs\n",
      "Qubit-A:  f1 = 3.000 MHz   f2 = 3.192 MHz   T2 = 156.7 µs\n",
      "Qubit-B:  f1 = 3.000 MHz   f2 = 3.192 MHz   T2 = 162.4 µs\n",
      "Qubit-A:  f1 = 3.000 MHz   f2 = 3.192 MHz   T2 = 153.4 µs\n",
      "Qubit-B:  f1 = 3.000 MHz   f2 = 3.192 MHz   T2 = 162.4 µs\n",
      "Qubit-A:  f1 = 3.000 MHz   f2 = 3.192 MHz   T2 = 176.6 µs\n",
      "Qubit-B:  f1 = 3.000 MHz   f2 = 3.192 MHz   T2 = 162.4 µs\n",
      "Qubit-A:  f1 = 3.000 MHz   f2 = 3.192 MHz   T2 = 172.0 µs\n",
      "Qubit-B:  f1 = 3.000 MHz   f2 = 3.192 MHz   T2 = 162.4 µs\n",
      "Qubit-A:  f1 = 3.000 MHz   f2 = 3.192 MHz   T2 = 165.4 µs\n",
      "Qubit-B:  f1 = 3.000 MHz   f2 = 3.192 MHz   T2 = 162.5 µs\n",
      "Qubit-A:  f1 = 3.000 MHz   f2 = 3.192 MHz   T2 = 161.4 µs\n",
      "Qubit-B:  f1 = 3.000 MHz   f2 = 3.192 MHz   T2 = 162.4 µs\n",
      "Qubit-A:  f1 = 3.000 MHz   f2 = 3.192 MHz   T2 = 156.7 µs\n",
      "Qubit-B:  f1 = 3.000 MHz   f2 = 3.192 MHz   T2 = 162.4 µs\n",
      "Qubit-A:  f1 = 3.000 MHz   f2 = 3.192 MHz   T2 = 151.0 µs\n",
      "Qubit-B:  f1 = 3.000 MHz   f2 = 3.192 MHz   T2 = 162.4 µs\n",
      "Qubit-A:  f1 = 3.000 MHz   f2 = 3.192 MHz   T2 = 149.0 µs\n",
      "Qubit-B:  f1 = 3.000 MHz   f2 = 3.192 MHz   T2 = 162.4 µs\n",
      "Qubit-A:  f1 = 3.000 MHz   f2 = 3.192 MHz   T2 = 178.7 µs\n",
      "Qubit-B:  f1 = 3.000 MHz   f2 = 3.192 MHz   T2 = 162.5 µs\n",
      "Qubit-A:  f1 = 3.000 MHz   f2 = 3.192 MHz   T2 = 164.8 µs\n",
      "Qubit-B:  f1 = 3.000 MHz   f2 = 3.192 MHz   T2 = 162.4 µs\n",
      "Qubit-A:  f1 = 3.000 MHz   f2 = 3.192 MHz   T2 = 175.9 µs\n",
      "Qubit-B:  f1 = 3.000 MHz   f2 = 3.192 MHz   T2 = 162.4 µs\n",
      "Qubit-A:  f1 = 3.000 MHz   f2 = 3.192 MHz   T2 = 170.0 µs\n",
      "Qubit-B:  f1 = 3.000 MHz   f2 = 3.192 MHz   T2 = 162.4 µs\n",
      "Qubit-A:  f1 = 3.000 MHz   f2 = 3.192 MHz   T2 = 174.1 µs\n",
      "Qubit-B:  f1 = 3.000 MHz   f2 = 3.192 MHz   T2 = 162.4 µs\n",
      "Qubit-A:  f1 = 3.000 MHz   f2 = 3.192 MHz   T2 = 172.0 µs\n",
      "Qubit-B:  f1 = 3.000 MHz   f2 = 3.192 MHz   T2 = 162.4 µs\n",
      "Qubit-A:  f1 = 3.000 MHz   f2 = 3.192 MHz   T2 = 148.7 µs\n",
      "Qubit-B:  f1 = 3.000 MHz   f2 = 3.192 MHz   T2 = 162.4 µs\n",
      "Qubit-A:  f1 = 3.000 MHz   f2 = 3.192 MHz   T2 = 164.0 µs\n",
      "Qubit-B:  f1 = 3.000 MHz   f2 = 3.192 MHz   T2 = 162.4 µs\n",
      "Qubit-A:  f1 = 3.000 MHz   f2 = 3.192 MHz   T2 = 169.3 µs\n",
      "Qubit-B:  f1 = 3.000 MHz   f2 = 3.192 MHz   T2 = 162.4 µs\n",
      "Qubit-A:  f1 = 3.000 MHz   f2 = 3.192 MHz   T2 = 162.1 µs\n",
      "Qubit-B:  f1 = 3.000 MHz   f2 = 3.192 MHz   T2 = 162.4 µs\n",
      "Qubit-A:  f1 = 3.000 MHz   f2 = 3.192 MHz   T2 = 184.6 µs\n",
      "Qubit-B:  f1 = 3.000 MHz   f2 = 3.192 MHz   T2 = 162.4 µs\n",
      "Qubit-A:  f1 = 3.000 MHz   f2 = 3.192 MHz   T2 = 162.2 µs\n",
      "Qubit-B:  f1 = 3.000 MHz   f2 = 3.192 MHz   T2 = 162.4 µs\n",
      "Qubit-A:  f1 = 3.000 MHz   f2 = 3.192 MHz   T2 = 131.8 µs\n",
      "Qubit-B:  f1 = 3.000 MHz   f2 = 3.192 MHz   T2 = 162.4 µs\n",
      "Qubit-A:  f1 = 3.000 MHz   f2 = 3.192 MHz   T2 = 142.8 µs\n",
      "Qubit-B:  f1 = 3.000 MHz   f2 = 3.192 MHz   T2 = 162.4 µs\n",
      "Qubit-A:  f1 = 3.000 MHz   f2 = 3.192 MHz   T2 = 156.3 µs\n",
      "Qubit-B:  f1 = 3.000 MHz   f2 = 3.192 MHz   T2 = 162.4 µs\n",
      "Qubit-A:  f1 = 3.000 MHz   f2 = 3.192 MHz   T2 = 159.8 µs\n",
      "Qubit-B:  f1 = 3.000 MHz   f2 = 3.192 MHz   T2 = 162.4 µs\n",
      "Qubit-A:  f1 = 3.000 MHz   f2 = 3.192 MHz   T2 = 164.6 µs\n",
      "Qubit-B:  f1 = 3.000 MHz   f2 = 3.192 MHz   T2 = 162.5 µs\n",
      "Qubit-A:  f1 = 3.000 MHz   f2 = 3.192 MHz   T2 = 178.9 µs\n",
      "Qubit-B:  f1 = 3.000 MHz   f2 = 3.192 MHz   T2 = 162.4 µs\n",
      "Qubit-A:  f1 = 3.000 MHz   f2 = 3.192 MHz   T2 = 170.9 µs\n",
      "Qubit-B:  f1 = 3.000 MHz   f2 = 3.192 MHz   T2 = 162.4 µs\n",
      "Qubit-A:  f1 = 3.000 MHz   f2 = 3.192 MHz   T2 = 175.7 µs\n",
      "Qubit-B:  f1 = 3.000 MHz   f2 = 3.192 MHz   T2 = 162.5 µs\n",
      "Qubit-A:  f1 = 3.000 MHz   f2 = 3.192 MHz   T2 = 167.8 µs\n",
      "Qubit-B:  f1 = 3.000 MHz   f2 = 3.192 MHz   T2 = 162.4 µs\n",
      "Qubit-A:  f1 = 3.000 MHz   f2 = 3.192 MHz   T2 = 161.2 µs\n",
      "Qubit-B:  f1 = 3.000 MHz   f2 = 3.192 MHz   T2 = 162.5 µs\n",
      "Qubit-A:  f1 = 3.000 MHz   f2 = 3.192 MHz   T2 = 166.4 µs\n",
      "Qubit-B:  f1 = 3.000 MHz   f2 = 3.192 MHz   T2 = 162.4 µs\n",
      "Qubit-A:  f1 = 3.000 MHz   f2 = 3.192 MHz   T2 = 176.9 µs\n",
      "Qubit-B:  f1 = 3.000 MHz   f2 = 3.192 MHz   T2 = 162.4 µs\n",
      "Qubit-A:  f1 = 3.000 MHz   f2 = 3.192 MHz   T2 = 145.0 µs\n",
      "Qubit-B:  f1 = 3.000 MHz   f2 = 3.192 MHz   T2 = 162.4 µs\n",
      "Qubit-A:  f1 = 3.000 MHz   f2 = 3.192 MHz   T2 = 175.7 µs\n",
      "Qubit-B:  f1 = 3.000 MHz   f2 = 3.192 MHz   T2 = 162.4 µs\n",
      "Qubit-A:  f1 = 3.000 MHz   f2 = 3.192 MHz   T2 = 143.1 µs\n",
      "Qubit-B:  f1 = 3.000 MHz   f2 = 3.192 MHz   T2 = 162.4 µs\n",
      "Qubit-A:  f1 = 3.000 MHz   f2 = 3.192 MHz   T2 = 162.3 µs\n",
      "Qubit-B:  f1 = 3.000 MHz   f2 = 3.192 MHz   T2 = 162.4 µs\n",
      "Qubit-A:  f1 = 3.000 MHz   f2 = 3.192 MHz   T2 = 165.0 µs\n",
      "Qubit-B:  f1 = 3.000 MHz   f2 = 3.192 MHz   T2 = 162.4 µs\n",
      "Qubit-A:  f1 = 3.000 MHz   f2 = 3.192 MHz   T2 = 167.5 µs\n",
      "Qubit-B:  f1 = 3.000 MHz   f2 = 3.192 MHz   T2 = 162.4 µs\n",
      "Qubit-A:  f1 = 3.000 MHz   f2 = 3.192 MHz   T2 = 159.0 µs\n",
      "Qubit-B:  f1 = 3.000 MHz   f2 = 3.192 MHz   T2 = 162.4 µs\n",
      "Qubit-A:  f1 = 3.000 MHz   f2 = 3.192 MHz   T2 = 178.7 µs\n",
      "Qubit-B:  f1 = 3.000 MHz   f2 = 3.192 MHz   T2 = 162.4 µs\n",
      "Qubit-A:  f1 = 3.000 MHz   f2 = 3.192 MHz   T2 = 174.1 µs\n",
      "Qubit-B:  f1 = 3.000 MHz   f2 = 3.192 MHz   T2 = 162.4 µs\n",
      "Qubit-A:  f1 = 3.000 MHz   f2 = 3.192 MHz   T2 = 167.1 µs\n",
      "Qubit-B:  f1 = 3.000 MHz   f2 = 3.192 MHz   T2 = 162.4 µs\n",
      "Qubit-A:  f1 = 3.000 MHz   f2 = 3.192 MHz   T2 = 162.3 µs\n",
      "Qubit-B:  f1 = 3.000 MHz   f2 = 3.192 MHz   T2 = 162.4 µs\n",
      "Qubit-A:  f1 = 3.000 MHz   f2 = 3.192 MHz   T2 = 157.5 µs\n",
      "Qubit-B:  f1 = 3.000 MHz   f2 = 3.192 MHz   T2 = 162.4 µs\n",
      "Qubit-A:  f1 = 3.000 MHz   f2 = 3.192 MHz   T2 = 135.9 µs\n",
      "Qubit-B:  f1 = 3.000 MHz   f2 = 3.192 MHz   T2 = 162.4 µs\n",
      "Qubit-A:  f1 = 3.000 MHz   f2 = 3.192 MHz   T2 = 141.9 µs\n",
      "Qubit-B:  f1 = 3.000 MHz   f2 = 3.192 MHz   T2 = 162.4 µs\n",
      "Qubit-A:  f1 = 3.000 MHz   f2 = 3.192 MHz   T2 = 175.5 µs\n",
      "Qubit-B:  f1 = 3.000 MHz   f2 = 3.192 MHz   T2 = 162.4 µs\n",
      "Qubit-A:  f1 = 3.000 MHz   f2 = 3.192 MHz   T2 = 135.9 µs\n",
      "Qubit-B:  f1 = 3.000 MHz   f2 = 3.192 MHz   T2 = 162.4 µs\n",
      "Qubit-A:  f1 = 3.000 MHz   f2 = 3.192 MHz   T2 = 143.2 µs\n",
      "Qubit-B:  f1 = 3.000 MHz   f2 = 3.192 MHz   T2 = 162.4 µs\n",
      "Qubit-A:  f1 = 3.000 MHz   f2 = 3.192 MHz   T2 = 152.2 µs\n",
      "Qubit-B:  f1 = 3.000 MHz   f2 = 3.192 MHz   T2 = 162.4 µs\n",
      "Qubit-A:  f1 = 3.000 MHz   f2 = 3.192 MHz   T2 = 155.0 µs\n",
      "Qubit-B:  f1 = 3.000 MHz   f2 = 3.192 MHz   T2 = 162.4 µs\n",
      "Qubit-A:  f1 = 3.000 MHz   f2 = 3.192 MHz   T2 = 168.2 µs\n",
      "Qubit-B:  f1 = 3.000 MHz   f2 = 3.192 MHz   T2 = 162.4 µs\n",
      "Qubit-A:  f1 = 3.000 MHz   f2 = 3.192 MHz   T2 = 167.2 µs\n",
      "Qubit-B:  f1 = 3.000 MHz   f2 = 3.192 MHz   T2 = 162.4 µs\n",
      "Qubit-A:  f1 = 3.000 MHz   f2 = 3.192 MHz   T2 = 168.2 µs\n",
      "Qubit-B:  f1 = 3.000 MHz   f2 = 3.192 MHz   T2 = 162.4 µs\n",
      "Qubit-A:  f1 = 3.000 MHz   f2 = 3.192 MHz   T2 = 151.2 µs\n",
      "Qubit-B:  f1 = 3.000 MHz   f2 = 3.192 MHz   T2 = 162.4 µs\n",
      "Qubit-A:  f1 = 3.000 MHz   f2 = 3.192 MHz   T2 = 151.6 µs\n",
      "Qubit-B:  f1 = 3.000 MHz   f2 = 3.192 MHz   T2 = 162.4 µs\n",
      "Qubit-A:  f1 = 3.000 MHz   f2 = 3.192 MHz   T2 = 154.3 µs\n",
      "Qubit-B:  f1 = 3.000 MHz   f2 = 3.192 MHz   T2 = 162.4 µs\n",
      "Qubit-A:  f1 = 3.000 MHz   f2 = 3.192 MHz   T2 = 185.6 µs\n",
      "Qubit-B:  f1 = 3.000 MHz   f2 = 3.192 MHz   T2 = 162.4 µs\n",
      "Qubit-A:  f1 = 3.000 MHz   f2 = 3.192 MHz   T2 = 152.6 µs\n",
      "Qubit-B:  f1 = 3.000 MHz   f2 = 3.192 MHz   T2 = 162.4 µs\n",
      "Qubit-A:  f1 = 3.000 MHz   f2 = 3.192 MHz   T2 = 145.9 µs\n",
      "Qubit-B:  f1 = 3.000 MHz   f2 = 3.192 MHz   T2 = 162.4 µs\n",
      "Qubit-A:  f1 = 3.000 MHz   f2 = 3.192 MHz   T2 = 149.9 µs\n",
      "Qubit-B:  f1 = 3.000 MHz   f2 = 3.192 MHz   T2 = 162.4 µs\n",
      "Qubit-A:  f1 = 3.000 MHz   f2 = 3.192 MHz   T2 = 162.7 µs\n",
      "Qubit-B:  f1 = 3.000 MHz   f2 = 3.192 MHz   T2 = 162.4 µs\n",
      "Qubit-A:  f1 = 3.000 MHz   f2 = 3.192 MHz   T2 = 180.1 µs\n",
      "Qubit-B:  f1 = 3.000 MHz   f2 = 3.192 MHz   T2 = 162.4 µs\n",
      "Qubit-A:  f1 = 3.000 MHz   f2 = 3.192 MHz   T2 = 140.9 µs\n",
      "Qubit-B:  f1 = 3.000 MHz   f2 = 3.192 MHz   T2 = 162.4 µs\n",
      "Qubit-A:  f1 = 3.000 MHz   f2 = 3.192 MHz   T2 = 152.4 µs\n",
      "Qubit-B:  f1 = 3.000 MHz   f2 = 3.192 MHz   T2 = 162.4 µs\n",
      "Qubit-A:  f1 = 3.000 MHz   f2 = 3.192 MHz   T2 = 182.0 µs\n",
      "Qubit-B:  f1 = 3.000 MHz   f2 = 3.192 MHz   T2 = 162.5 µs\n",
      "Qubit-A:  f1 = 3.000 MHz   f2 = 3.192 MHz   T2 = 130.0 µs\n",
      "Qubit-B:  f1 = 3.000 MHz   f2 = 3.192 MHz   T2 = 162.4 µs\n",
      "Qubit-A:  f1 = 3.000 MHz   f2 = 3.192 MHz   T2 = 153.5 µs\n",
      "Qubit-B:  f1 = 3.000 MHz   f2 = 3.192 MHz   T2 = 162.3 µs\n",
      "Qubit-A:  f1 = 3.000 MHz   f2 = 3.192 MHz   T2 = 151.9 µs\n",
      "Qubit-B:  f1 = 3.000 MHz   f2 = 3.192 MHz   T2 = 162.4 µs\n",
      "Qubit-A:  f1 = 3.000 MHz   f2 = 3.192 MHz   T2 = 177.6 µs\n",
      "Qubit-B:  f1 = 3.000 MHz   f2 = 3.192 MHz   T2 = 162.4 µs\n",
      "Qubit-A:  f1 = 3.000 MHz   f2 = 3.192 MHz   T2 = 151.0 µs\n",
      "Qubit-B:  f1 = 3.000 MHz   f2 = 3.192 MHz   T2 = 162.4 µs\n",
      "Qubit-A:  f1 = 3.000 MHz   f2 = 3.192 MHz   T2 = 181.4 µs\n",
      "Qubit-B:  f1 = 3.000 MHz   f2 = 3.192 MHz   T2 = 162.4 µs\n",
      "Qubit-A:  f1 = 3.000 MHz   f2 = 3.192 MHz   T2 = 168.9 µs\n",
      "Qubit-B:  f1 = 3.000 MHz   f2 = 3.192 MHz   T2 = 162.4 µs\n",
      "Qubit-A:  f1 = 3.000 MHz   f2 = 3.192 MHz   T2 = 161.3 µs\n",
      "Qubit-B:  f1 = 3.000 MHz   f2 = 3.192 MHz   T2 = 162.4 µs\n",
      "Qubit-A:  f1 = 3.000 MHz   f2 = 3.192 MHz   T2 = 175.7 µs\n",
      "Qubit-B:  f1 = 3.000 MHz   f2 = 3.192 MHz   T2 = 162.5 µs\n",
      "Qubit-A:  f1 = 3.000 MHz   f2 = 3.192 MHz   T2 = 166.0 µs\n",
      "Qubit-B:  f1 = 3.000 MHz   f2 = 3.192 MHz   T2 = 162.4 µs\n",
      "Qubit-A:  f1 = 3.000 MHz   f2 = 3.192 MHz   T2 = 152.1 µs\n",
      "Qubit-B:  f1 = 3.000 MHz   f2 = 3.192 MHz   T2 = 162.4 µs\n",
      "Qubit-A:  f1 = 3.000 MHz   f2 = 3.192 MHz   T2 = 137.5 µs\n",
      "Qubit-B:  f1 = 3.000 MHz   f2 = 3.192 MHz   T2 = 162.4 µs\n",
      "Qubit-A:  f1 = 3.000 MHz   f2 = 3.192 MHz   T2 = 208.0 µs\n",
      "Qubit-B:  f1 = 3.000 MHz   f2 = 3.192 MHz   T2 = 162.4 µs\n",
      "Qubit-A:  f1 = 3.000 MHz   f2 = 3.192 MHz   T2 = 173.0 µs\n",
      "Qubit-B:  f1 = 3.000 MHz   f2 = 3.192 MHz   T2 = 162.4 µs\n",
      "Qubit-A:  f1 = 3.000 MHz   f2 = 3.192 MHz   T2 = 159.8 µs\n",
      "Qubit-B:  f1 = 3.000 MHz   f2 = 3.192 MHz   T2 = 162.4 µs\n",
      "Qubit-A:  f1 = 3.000 MHz   f2 = 3.192 MHz   T2 = 183.7 µs\n",
      "Qubit-B:  f1 = 3.000 MHz   f2 = 3.192 MHz   T2 = 162.4 µs\n",
      "Qubit-A:  f1 = 3.000 MHz   f2 = 3.192 MHz   T2 = 190.5 µs\n",
      "Qubit-B:  f1 = 3.000 MHz   f2 = 3.192 MHz   T2 = 162.4 µs\n",
      "Qubit-A:  f1 = 3.000 MHz   f2 = 3.192 MHz   T2 = 167.0 µs\n",
      "Qubit-B:  f1 = 3.000 MHz   f2 = 3.192 MHz   T2 = 162.4 µs\n",
      "Qubit-A:  f1 = 3.000 MHz   f2 = 3.192 MHz   T2 = 167.6 µs\n",
      "Qubit-B:  f1 = 3.000 MHz   f2 = 3.192 MHz   T2 = 162.4 µs\n",
      "Qubit-A:  f1 = 3.000 MHz   f2 = 3.192 MHz   T2 = 208.0 µs\n",
      "Qubit-B:  f1 = 3.000 MHz   f2 = 3.192 MHz   T2 = 162.5 µs\n",
      "Qubit-A:  f1 = 3.000 MHz   f2 = 3.192 MHz   T2 = 161.3 µs\n",
      "Qubit-B:  f1 = 3.000 MHz   f2 = 3.192 MHz   T2 = 162.4 µs\n",
      "Qubit-A:  f1 = 3.000 MHz   f2 = 3.192 MHz   T2 = 188.4 µs\n",
      "Qubit-B:  f1 = 3.000 MHz   f2 = 3.192 MHz   T2 = 162.4 µs\n",
      "Qubit-A:  f1 = 3.000 MHz   f2 = 3.192 MHz   T2 = 151.3 µs\n",
      "Qubit-B:  f1 = 3.000 MHz   f2 = 3.192 MHz   T2 = 162.4 µs\n",
      "Qubit-A:  f1 = 3.000 MHz   f2 = 3.192 MHz   T2 = 160.0 µs\n",
      "Qubit-B:  f1 = 3.000 MHz   f2 = 3.192 MHz   T2 = 162.4 µs\n",
      "Qubit-A:  f1 = 3.000 MHz   f2 = 3.192 MHz   T2 = 162.2 µs\n",
      "Qubit-B:  f1 = 3.000 MHz   f2 = 3.192 MHz   T2 = 162.4 µs\n",
      "Qubit-A:  f1 = 3.000 MHz   f2 = 3.192 MHz   T2 = 158.6 µs\n",
      "Qubit-B:  f1 = 3.000 MHz   f2 = 3.192 MHz   T2 = 162.4 µs\n",
      "Qubit-A:  f1 = 3.000 MHz   f2 = 3.192 MHz   T2 = 147.8 µs\n",
      "Qubit-B:  f1 = 3.000 MHz   f2 = 3.192 MHz   T2 = 162.4 µs\n",
      "Qubit-A:  f1 = 3.000 MHz   f2 = 3.192 MHz   T2 = 160.8 µs\n",
      "Qubit-B:  f1 = 3.000 MHz   f2 = 3.192 MHz   T2 = 162.4 µs\n",
      "Qubit-A:  f1 = 3.000 MHz   f2 = 3.192 MHz   T2 = 160.8 µs\n",
      "Qubit-B:  f1 = 3.000 MHz   f2 = 3.192 MHz   T2 = 162.4 µs\n",
      "Qubit-A:  f1 = 3.000 MHz   f2 = 3.192 MHz   T2 = 181.0 µs\n",
      "Qubit-B:  f1 = 3.000 MHz   f2 = 3.192 MHz   T2 = 162.4 µs\n",
      "Qubit-A:  f1 = 3.000 MHz   f2 = 3.192 MHz   T2 = 178.1 µs\n",
      "Qubit-B:  f1 = 3.000 MHz   f2 = 3.192 MHz   T2 = 162.4 µs\n",
      "Qubit-A:  f1 = 3.000 MHz   f2 = 3.192 MHz   T2 = 173.8 µs\n",
      "Qubit-B:  f1 = 3.000 MHz   f2 = 3.192 MHz   T2 = 162.4 µs\n",
      "Qubit-A:  f1 = 3.000 MHz   f2 = 3.192 MHz   T2 = 158.7 µs\n",
      "Qubit-B:  f1 = 3.000 MHz   f2 = 3.192 MHz   T2 = 162.4 µs\n",
      "Qubit-A:  f1 = 3.000 MHz   f2 = 3.192 MHz   T2 = 177.2 µs\n",
      "Qubit-B:  f1 = 3.000 MHz   f2 = 3.192 MHz   T2 = 162.4 µs\n",
      "Qubit-A:  f1 = 3.000 MHz   f2 = 3.192 MHz   T2 = 140.9 µs\n",
      "Qubit-B:  f1 = 3.000 MHz   f2 = 3.192 MHz   T2 = 162.4 µs\n",
      "Qubit-A:  f1 = 3.000 MHz   f2 = 3.192 MHz   T2 = 143.6 µs\n",
      "Qubit-B:  f1 = 3.000 MHz   f2 = 3.192 MHz   T2 = 162.4 µs\n",
      "Qubit-A:  f1 = 3.000 MHz   f2 = 3.192 MHz   T2 = 174.7 µs\n",
      "Qubit-B:  f1 = 3.000 MHz   f2 = 3.192 MHz   T2 = 162.4 µs\n",
      "Qubit-A:  f1 = 3.000 MHz   f2 = 3.192 MHz   T2 = 181.2 µs\n",
      "Qubit-B:  f1 = 3.000 MHz   f2 = 3.192 MHz   T2 = 162.5 µs\n",
      "Qubit-A:  f1 = 3.000 MHz   f2 = 3.192 MHz   T2 = 158.0 µs\n",
      "Qubit-B:  f1 = 3.000 MHz   f2 = 3.192 MHz   T2 = 162.4 µs\n",
      "Qubit-A:  f1 = 3.000 MHz   f2 = 3.192 MHz   T2 = 139.0 µs\n",
      "Qubit-B:  f1 = 3.000 MHz   f2 = 3.192 MHz   T2 = 162.4 µs\n",
      "Qubit-A:  f1 = 3.000 MHz   f2 = 3.192 MHz   T2 = 161.0 µs\n",
      "Qubit-B:  f1 = 3.000 MHz   f2 = 3.192 MHz   T2 = 162.4 µs\n",
      "Qubit-A:  f1 = 3.000 MHz   f2 = 3.192 MHz   T2 = 156.2 µs\n",
      "Qubit-B:  f1 = 3.000 MHz   f2 = 3.192 MHz   T2 = 162.4 µs\n",
      "Qubit-A:  f1 = 3.000 MHz   f2 = 3.192 MHz   T2 = 164.8 µs\n",
      "Qubit-B:  f1 = 3.000 MHz   f2 = 3.192 MHz   T2 = 162.4 µs\n",
      "Qubit-A:  f1 = 3.000 MHz   f2 = 3.192 MHz   T2 = 171.7 µs\n",
      "Qubit-B:  f1 = 3.000 MHz   f2 = 3.192 MHz   T2 = 162.4 µs\n",
      "Qubit-A:  f1 = 3.000 MHz   f2 = 3.192 MHz   T2 = 170.2 µs\n",
      "Qubit-B:  f1 = 3.000 MHz   f2 = 3.192 MHz   T2 = 162.4 µs\n"
     ]
    }
   ],
   "source": [
    "# ==================================================================\n",
    "# Fit Ramsey beating to two decaying cosines  (requires SciPy ≥1.6)\n",
    "# ==================================================================\n",
    "import numpy as np, matplotlib.pyplot as plt\n",
    "from scipy.optimize import curve_fit\n",
    "from scipy.fft import rfftfreq, rfft\n",
    "\n",
    "# --- model --------------------------------------------------------\n",
    "def double_cos(t_s, A, f1, f2, phi1, phi2, T2, C):\n",
    "    env = A * np.exp(-t_s / T2)\n",
    "    return env * (np.cos(2*np.pi*f1*t_s + phi1) +\n",
    "                  np.cos(2*np.pi*f2*t_s + phi2)) + C\n",
    "\n",
    "def single_cos(t_s, A, f1, f2, phi1, phi2, T2, C):\n",
    "    env = A * np.exp(-t_s / T2)\n",
    "    return env * np.cos(2*np.pi*f1*t_s + phi1) + C\n",
    "\n",
    "# --- helper: crude initial guesses from FFT ----------------------\n",
    "def guess_params(t_ns, y):\n",
    "    t_s = t_ns*1e-9\n",
    "    C0  = y.mean()\n",
    "    A0  = 0.5*(y.max()-y.min())\n",
    "    fs  = rfftfreq(len(t_s), t_s[1]-t_s[0])\n",
    "    spec= np.abs(rfft(y-C0))\n",
    "    peak_idx = spec.argsort()[-2:][::-1]   # two largest peaks\n",
    "    f1, f2 = fs[peak_idx]\n",
    "    return [A0, f1, f2, 0, 0, 20e-6, C0] # 5e-6\n",
    "\n",
    "# --- report -------------------------------------------------------\n",
    "def report(label, p):\n",
    "    print(f\"{label}:  f1 = {p[1]/1e6:.3f} MHz   f2 = {p[2]/1e6:.3f} MHz   \"\n",
    "          f\"T2 = {p[5]*1e6:.1f} µs\")\n",
    "    \n",
    "expA_t2 = []\n",
    "expB_t2 = []\n",
    "expA_p = []\n",
    "expB_p = []\n",
    "\n",
    "for expA, expB in zip(expA_list, expB_list):\n",
    "    # --- fit both qubits ---------------------------------------------\n",
    "    p0A = guess_params(t_ns, expA)\n",
    "    p0B = guess_params(t_ns, expB)\n",
    "    t_s = t_ns*1e-9\n",
    "\n",
    "    bounds = ([0,0,0,-np.pi,-np.pi,0,0],\n",
    "              [1,20e6,20e6,np.pi,np.pi,1e-3,1])\n",
    "\n",
    "    #pA,_ = curve_fit(double_cos, t_s, expA, p0=p0A, bounds=bounds, maxfev=30000)\n",
    "    #pB,_ = curve_fit(double_cos, t_s, expB, p0=p0B, bounds=bounds, maxfev=30000)\n",
    "\n",
    "    pA,_ = curve_fit(single_cos, t_s, expA, p0=p0A,  maxfev=30000)\n",
    "    pB,_ = curve_fit(single_cos, t_s, expB, p0=p0B,  maxfev=30000)\n",
    "\n",
    "    report(\"Qubit-A\", pA)\n",
    "    report(\"Qubit-B\", pB)\n",
    "\n",
    "    expA_t2.append(pA[5])\n",
    "    expB_t2.append(pB[5])\n",
    "\n",
    "    expA_p.append(pA)\n",
    "    expB_p.append(pB)\n"
   ]
  },
  {
   "cell_type": "code",
   "execution_count": null,
   "metadata": {},
   "outputs": [],
   "source": [
    "i=0\n",
    "expA = expA_list[i]\n",
    "expB = expB_list[i]\n",
    "pA = expA_p[i]\n",
    "pB = expB_p[i]\n",
    "\n",
    "# --- plots ------------------------------------------------\n",
    "tf_ns = np.linspace(t_ns[0], t_ns[-1], 1200)\n",
    "fig, ax = plt.subplots(1,2, figsize=(11,4))\n",
    "for k,(y,p,title) in enumerate(zip((expA,expB),(pA,pB),(\"Qubit A\",\"Qubit B\"))):\n",
    "    ax[k].plot(t_ns, y, '.', label='data')\n",
    "    ax[k].plot(tf_ns,\n",
    "               double_cos(tf_ns*1e-9, *p), label='fit')\n",
    "    ax[k].set_title(title+\n",
    "        f\"\\n f1={p[1]/1e6:.3f} MHz  f2={p[2]/1e6:.3f} MHz  T2={p[5]*1e6:.1f} µs\")\n",
    "    ax[k].set_xlabel('delay (ns)'); ax[k].set_ylabel('P(e)')\n",
    "    ax[k].legend()\n",
    "plt.tight_layout(); plt.show()"
   ]
  },
  {
   "attachments": {
    "image.png": {
     "image/png": "[encoded data removed]"
    }
   },
   "cell_type": "markdown",
   "metadata": {},
   "source": [
    "## fit with two amplitudes \n",
    "![image.png](attachment:image.png)"
   ]
  },
  {
   "cell_type": "code",
   "execution_count": null,
   "metadata": {},
   "outputs": [],
   "source": [
    "# ==================================================================\n",
    "# Fit Ramsey beating with *independent* amplitudes for each branch\n",
    "# Assumes t_ns, expA, expB are defined (from the simulation cell)\n",
    "# ==================================================================\n",
    "import numpy as np, matplotlib.pyplot as plt\n",
    "from scipy.optimize import curve_fit\n",
    "from scipy.fft import rfftfreq, rfft\n",
    "\n",
    "# ---------- model -------------------------------------------------\n",
    "def two_amp_cos(t_s, A1, A2, f1, f2, phi1, phi2, T2, C):\n",
    "    env = np.exp(-t_s / T2)\n",
    "    return env * (A1*np.cos(2*np.pi*f1*t_s + phi1) +\n",
    "                  A2*np.cos(2*np.pi*f2*t_s + phi2)) + C\n",
    "\n",
    "# ---------- initial-guess helper (FFT) ---------------------------\n",
    "def guess_params(t_ns, y):\n",
    "    t_s = t_ns * 1e-9\n",
    "    C0  = y.mean()\n",
    "    \n",
    "    y0  = y - C0\n",
    "    A_guess = 0.5*(y.max()-y.min())\n",
    "    fs   = rfftfreq(len(t_s), t_s[1]-t_s[0])\n",
    "    spec = np.abs(rfft(y0))\n",
    "    idx  = spec.argsort()[-2:][::-1]          # two largest peaks\n",
    "    f1, f2 = fs[idx]\n",
    "    return [A_guess, A_guess, f1, f2, 0.0, 0.0, 5e-6, C0]\n",
    "\n",
    "# ---------- fit both qubits --------------------------------------\n",
    "t_s = t_ns * 1e-9\n",
    "p0A = guess_params(t_ns, expA)\n",
    "p0B = guess_params(t_ns, expB)\n",
    "\n",
    "bounds = ([0,0,      0,      0, -np.pi, -np.pi,        0, 0],   # lower\n",
    "          [1,1,  20e6,  20e6,  np.pi,  np.pi,   1e-3, 1])       # upper\n",
    "\n",
    "pA, _ = curve_fit(two_amp_cos, t_s, expA, p0=p0A,\n",
    "                  bounds=bounds, maxfev=50000)\n",
    "pB, _ = curve_fit(two_amp_cos, t_s, expB, p0=p0B,\n",
    "                  bounds=bounds, maxfev=50000)\n",
    "\n",
    "# ---------- report ----------------------------------------------\n",
    "def report(label, p):\n",
    "    print(f\"{label}:  f1 = {p[2]/1e6:.3f} MHz   \"\n",
    "          f\"f2 = {p[3]/1e6:.3f} MHz   \"\n",
    "          f\"A1 = {p[0]:.2f}  A2 = {p[1]:.2f}   \"\n",
    "          f\"T2 = {p[6]*1e6:.1f} µs\")\n",
    "\n",
    "report(\"Qubit-A\", pA)\n",
    "report(\"Qubit-B\", pB)\n",
    "\n",
    "# ---------- plots ---------------------------------------\n",
    "tf_ns = np.linspace(t_ns[0], t_ns[-1], 1600)\n",
    "fig, ax = plt.subplots(1,2, figsize=(11,4))\n",
    "for k, (y, p, title) in enumerate(zip((expA, expB),\n",
    "                                      (pA, pB),\n",
    "                                      (\"Qubit A\", \"Qubit B\"))):\n",
    "    ax[k].plot(t_ns, y, '.', ms=3, label='data')\n",
    "    ax[k].plot(tf_ns,\n",
    "               two_amp_cos(tf_ns*1e-9, *p), lw=1.4, label='fit')\n",
    "    ax[k].set_title(title +\n",
    "      (f\"\\n f₁={p[2]/1e6:.3f} MHz  f₂={p[3]/1e6:.3f} MHz\\n\"\n",
    "       f\"A₁={p[0]:.2f}  A₂={p[1]:.2f}  T₂={p[6]*1e6:.1f} µs\"))\n",
    "    ax[k].set_xlabel('delay (ns)'); ax[k].set_ylabel('P(e)')\n",
    "    ax[k].legend()\n",
    "plt.tight_layout(); plt.show()\n"
   ]
  },
  {
   "cell_type": "markdown",
   "metadata": {},
   "source": [
    "# Sample Telegraphic Noise "
   ]
  },
  {
   "cell_type": "code",
   "execution_count": null,
   "metadata": {},
   "outputs": [
    {
     "data": {
      "image/png": "[encoded data removed]",
      "text/plain": [
       "<Figure size 800x500 with 1 Axes>"
      ]
     },
     "metadata": {},
     "output_type": "display_data"
    }
   ],
   "source": [
    "# Q A\n",
    "plt.figure(figsize=(8, 5))\n",
    "plt.hist(np.array(expA_t2)*1e6, bins=200, alpha=0.7, color='steelblue', edgecolor='black')\n",
    "plt.xlabel(\"us\")\n",
    "plt.ylabel(\"Count\")\n",
    "plt.title(\"T2 Q_A\")\n",
    "plt.grid(True)\n",
    "plt.show()"
   ]
  },
  {
   "cell_type": "code",
   "execution_count": null,
   "metadata": {},
   "outputs": [
    {
     "data": {
      "image/png": "[encoded data removed]",
      "text/plain": [
       "<Figure size 800x500 with 1 Axes>"
      ]
     },
     "metadata": {},
     "output_type": "display_data"
    }
   ],
   "source": [
    "# Q B\n",
    "plt.figure(figsize=(8, 5))\n",
    "plt.hist(np.array(expB_t2)*1e6, bins=200, alpha=0.7, color='steelblue', edgecolor='black')\n",
    "plt.xlabel(\"us\")\n",
    "plt.ylabel(\"Count\")\n",
    "plt.title(\"T2 Q_B\")\n",
    "plt.grid(True)\n",
    "plt.show()"
   ]
  },
  {
   "cell_type": "code",
   "execution_count": null,
   "metadata": {},
   "outputs": [],
   "source": [
    "#sample0, sample1 = sample_bimodal_gaussian2D([10,20],[5,5],[100,160],[10,10],1000000)\n",
    "mean1 = [50, 50]  # Means for T1 and T2\n",
    "cov1 = [[100, 80],  # Covariance matrix: diagonal = variances, off-diagonal = correlation\n",
    "       [80, 100]]\n",
    "mean2 = [160, 160]  # Means for T1 and T2\n",
    "cov2 = [[100, 50],  # Covariance matrix: diagonal = variances, off-diagonal = correlation\n",
    "       [50, 100]]\n",
    "sample0, sample1 = double_correlated_2d_normal(mean1, cov1, mean2, cov2, num_samples=5000)\n",
    "#print(sample0[0], sample1[0])\n",
    "# Create 2D histogram (heatmap)\n",
    "plt.figure(figsize=(8, 6))\n",
    "plt.hist2d(sample0, sample1, bins=50, cmap='viridis')\n",
    "plt.xlabel(\"T1_A_SAMPLE (us)\")\n",
    "plt.ylabel(\"expA_t2 (us)\")\n",
    "plt.title(\"Heatmap of expA_t2 vs T1_A_SAMPLE\")\n",
    "plt.colorbar(label='Counts')\n",
    "plt.tight_layout()\n",
    "plt.show()"
   ]
  },
  {
   "cell_type": "code",
   "execution_count": null,
   "metadata": {},
   "outputs": [],
   "source": [
    "# Generate correlated 2D normal distribution\n",
    "mean = [100, 160]  # Means for T1 and T2\n",
    "cov = [[100, 80],  # Covariance matrix: diagonal = variances, off-diagonal = correlation\n",
    "       [80, 100]]\n",
    "\n",
    "num_samples = 10000\n",
    "samples = np.random.multivariate_normal(mean, cov, num_samples)\n",
    "t1_samples = samples[:, 0]\n",
    "t2_samples = samples[:, 1]\n",
    "\n",
    "plt.figure(figsize=(8, 6))\n",
    "plt.hist2d(t1_samples, t2_samples, bins=50, cmap='viridis')\n",
    "plt.xlabel(\"T1 (us)\")\n",
    "plt.ylabel(\"T2 (us)\")\n",
    "plt.title(\"Correlated 2D Normal Distribution\")\n",
    "plt.colorbar(label='Counts')\n",
    "plt.tight_layout()\n",
    "plt.show()"
   ]
  },
  {
   "cell_type": "code",
   "execution_count": null,
   "metadata": {},
   "outputs": [],
   "source": [
    "# Q B\n",
    "plt.figure(figsize=(8, 5))\n",
    "plt.hist(np.array(sample0), bins=200, alpha=0.7, color='steelblue', edgecolor='black')\n",
    "plt.xlabel(\"us\")\n",
    "plt.ylabel(\"Count\")\n",
    "plt.title(\"T2 Q_B\")\n",
    "plt.grid(True)\n",
    "plt.show()"
   ]
  },
  {
   "cell_type": "code",
   "execution_count": null,
   "metadata": {},
   "outputs": [],
   "source": [
    "# Convert to numpy arrays if needed\n",
    "expA_t2 = np.array(expA_t2)\n",
    "T1_A_SAMPLE = np.array(T1_A_SAMPLE)\n",
    "\n",
    "# Create 2D histogram (heatmap)\n",
    "plt.figure(figsize=(8, 6))\n",
    "plt.hist2d(expA_t2, T1_A_SAMPLE, bins=50, cmap='viridis')\n",
    "plt.ylabel(\"T1_A_SAMPLE (us)\")\n",
    "plt.xlabel(\"expA_t2 (us)\")\n",
    "plt.title(\"Heatmap of expA_t2 vs T1_A_SAMPLE\")\n",
    "plt.colorbar(label='Counts')\n",
    "plt.tight_layout()\n",
    "plt.show()"
   ]
  },
  {
   "cell_type": "code",
   "execution_count": null,
   "metadata": {},
   "outputs": [],
   "source": [
    "x = np.linspace(50, 1000, 500)\n",
    "#y = 1/200 - (1/x)/2\n",
    "y =1 / (10+(1/x))\n",
    "\n",
    "plt.figure(figsize=(7, 4))\n",
    "plt.plot(x, y)\n",
    "plt.xlabel('x')\n",
    "plt.ylabel('1/200 - 1/(x/2)')\n",
    "plt.title('Plot of 1/200 - 1/(x/2)')\n",
    "plt.grid(True)\n",
    "plt.tight_layout()\n",
    "plt.show()"
   ]
  },
  {
   "cell_type": "code",
   "execution_count": null,
   "metadata": {},
   "outputs": [],
   "source": [
    "loA = expA_t2[:200]\n",
    "hiA = expA_t2[200:]\n",
    "#resA, tlineA = select_periodic(hiA,loA,3,100,12)\n",
    "\n",
    "loB = expB_t2[:200]\n",
    "hiB = expB_t2[200:]\n",
    "#resB, tlineB = select_periodic(hiB,loB,3,100,12)\n",
    "\n",
    "res, tline = select_periodicCorr(hiA,loA,hiB,loB,3,100,12)\n",
    "resA = np.array([float(x[0]) for x in res])\n",
    "resB = np.array([float(x[1]) for x in res])\n"
   ]
  },
  {
   "cell_type": "code",
   "execution_count": null,
   "metadata": {},
   "outputs": [
    {
     "data": {
      "image/png": "[encoded data removed]",
      "text/plain": [
       "<Figure size 800x400 with 1 Axes>"
      ]
     },
     "metadata": {},
     "output_type": "display_data"
    }
   ],
   "source": [
    "import matplotlib.pyplot as plt\n",
    "\n",
    "plt.figure(figsize=(8, 4))\n",
    "plt.plot(tline, resA*1e6, 'o', alpha=0.7, label='Qubit A')\n",
    "plt.plot(tline, resB*1e6, 'o', alpha=0.7, label='Qubit B')\n",
    "plt.xlabel(\"Time (hr)\")\n",
    "plt.ylabel(\"T2 (us)\")\n",
    "plt.title(\"\")\n",
    "plt.legend()\n",
    "plt.ylim(0, 300)\n",
    "plt.grid(True)\n",
    "plt.tight_layout()\n",
    "plt.show()"
   ]
  },
  {
   "cell_type": "code",
   "execution_count": null,
   "metadata": {},
   "outputs": [],
   "source": [
    "wA,wB   = 2*np.pi*np.array([3.3e9,fB])\n",
    "chi     = 2*np.pi*chi_MHz*1e6\n",
    "EdA,EdB = 0.01*wA, 0.01*wB          # Rabi → τπ/2≈8 ns\n",
    "pi2A,pi2B = np.pi/(2*EdA), np.pi/(2*EdB)\n",
    "tau_p   = float(max(pi2A,pi2B))"
   ]
  },
  {
   "cell_type": "code",
   "execution_count": null,
   "metadata": {},
   "outputs": [
    {
     "data": {
      "text/plain": [
       "np.float64(207345115.13692635)"
      ]
     },
     "execution_count": 13,
     "metadata": {},
     "output_type": "execute_result"
    }
   ],
   "source": [
    "EdA"
   ]
  },
  {
   "cell_type": "code",
   "execution_count": null,
   "metadata": {},
   "outputs": [
    {
     "data": {
      "text/plain": [
       "0.9090909090909091"
      ]
     },
     "execution_count": 14,
     "metadata": {},
     "output_type": "execute_result"
    }
   ],
   "source": [
    "188495559.21538758/207345115.13692635"
   ]
  },
  {
   "cell_type": "code",
   "execution_count": null,
   "metadata": {},
   "outputs": [
    {
     "data": {
      "text/plain": [
       "0.9090909090909092"
      ]
     },
     "execution_count": 15,
     "metadata": {},
     "output_type": "execute_result"
    }
   ],
   "source": [
    "3.0/3.3"
   ]
  },
  {
   "cell_type": "code",
   "execution_count": null,
   "metadata": {},
   "outputs": [],
   "source": []
  }
 ],
 "metadata": {
  "kernelspec": {
   "display_name": "qiskit",
   "language": "python",
   "name": "python3"
  },
  "language_info": {
   "codemirror_mode": {
    "name": "ipython",
    "version": 3
   },
   "file_extension": ".py",
   "mimetype": "text/x-python",
   "name": "python",
   "nbconvert_exporter": "python",
   "pygments_lexer": "ipython3",
   "version": "3.10.16"
  }
 },
 "nbformat": 4,
 "nbformat_minor": 2
}
